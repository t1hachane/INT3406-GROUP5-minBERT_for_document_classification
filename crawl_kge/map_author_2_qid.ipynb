{
  "nbformat": 4,
  "nbformat_minor": 0,
  "metadata": {
    "colab": {
      "provenance": []
    },
    "kernelspec": {
      "name": "python3",
      "display_name": "Python 3"
    },
    "language_info": {
      "name": "python"
    }
  },
  "cells": [
    {
      "cell_type": "code",
      "execution_count": null,
      "metadata": {
        "colab": {
          "base_uri": "https://localhost:8080/"
        },
        "collapsed": true,
        "id": "IkTKdeHkPhoq",
        "outputId": "f83f110d-fa8c-4f58-a2f1-035ea33b6c1a"
      },
      "outputs": [
        {
          "output_type": "stream",
          "name": "stdout",
          "text": [
            "--2024-10-16 12:12:29--  https://dl.fbaipublicfiles.com/torchbiggraph/wikidata_translation_v1.tsv.gz\n",
            "Resolving dl.fbaipublicfiles.com (dl.fbaipublicfiles.com)... 18.238.176.19, 18.238.176.44, 18.238.176.115, ...\n",
            "Connecting to dl.fbaipublicfiles.com (dl.fbaipublicfiles.com)|18.238.176.19|:443... connected.\n",
            "HTTP request sent, awaiting response... 200 OK\n",
            "Length: 38830884950 (36G) [application/gzip]\n",
            "Saving to: ‘wikidata_translation_v1.tsv.gz’\n",
            "\n",
            "wikidata_translatio 100%[===================>]  36.16G  54.5MB/s    in 9m 50s  \n",
            "\n",
            "2024-10-16 12:22:20 (62.7 MB/s) - ‘wikidata_translation_v1.tsv.gz’ saved [38830884950/38830884950]\n",
            "\n"
          ]
        }
      ],
      "source": [
        "!wget https://dl.fbaipublicfiles.com/torchbiggraph/wikidata_translation_v1.tsv.gz -O wikidata_translation_v1.tsv.gz\n"
      ]
    },
    {
      "cell_type": "markdown",
      "source": [
        "Download Wikimapper"
      ],
      "metadata": {
        "id": "I1H16KS6JU5J"
      }
    },
    {
      "cell_type": "code",
      "source": [
        "!wget https://public.ukp.informatik.tu-darmstadt.de/wikimapper/index_enwiki-20190420.db -O index_enwiki-20190420.db\n",
        "\n"
      ],
      "metadata": {
        "colab": {
          "base_uri": "https://localhost:8080/"
        },
        "collapsed": true,
        "id": "5pwsYoXQWrtZ",
        "outputId": "227b5c92-c62c-4ac6-a5cd-69616350330d"
      },
      "execution_count": null,
      "outputs": [
        {
          "output_type": "stream",
          "name": "stdout",
          "text": [
            "--2024-10-16 12:43:42--  https://public.ukp.informatik.tu-darmstadt.de/wikimapper/index_enwiki-20190420.db\n",
            "Resolving public.ukp.informatik.tu-darmstadt.de (public.ukp.informatik.tu-darmstadt.de)... 130.83.167.186\n",
            "Connecting to public.ukp.informatik.tu-darmstadt.de (public.ukp.informatik.tu-darmstadt.de)|130.83.167.186|:443... connected.\n",
            "HTTP request sent, awaiting response... 200 OK\n",
            "Length: 1607753728 (1.5G) [application/octet-stream]\n",
            "Saving to: ‘index_enwiki-20190420.db’\n",
            "\n",
            "index_enwiki-201904 100%[===================>]   1.50G  9.08MB/s    in 3m 11s  \n",
            "\n",
            "2024-10-16 12:46:54 (8.02 MB/s) - ‘index_enwiki-20190420.db’ saved [1607753728/1607753728]\n",
            "\n"
          ]
        }
      ]
    },
    {
      "cell_type": "code",
      "source": [
        "!wget https://public.ukp.informatik.tu-darmstadt.de/wikimapper/index_dewiki-20190420.db -O index_dewiki-20190420.db\n",
        "\n",
        "!wget https://public.ukp.informatik.tu-darmstadt.de/wikimapper/index_eswiki-20190420.db -O index_eswiki-20190420.db\n",
        "\n",
        "!wget https://public.ukp.informatik.tu-darmstadt.de/wikimapper/index_frwiki-20190420.db -O index_frwiki-20190420.db\n",
        "\n",
        "!wget https://public.ukp.informatik.tu-darmstadt.de/wikimapper/index_jawiki-20190420.db -O index_jawiki-20190420.db"
      ],
      "metadata": {
        "colab": {
          "base_uri": "https://localhost:8080/"
        },
        "id": "6bkxoPPaGTn0",
        "outputId": "09df960d-3177-4985-da26-45350b0b273e"
      },
      "execution_count": null,
      "outputs": [
        {
          "output_type": "stream",
          "name": "stdout",
          "text": [
            "--2024-10-16 16:57:15--  https://public.ukp.informatik.tu-darmstadt.de/wikimapper/index_dewiki-20190420.db\n",
            "Resolving public.ukp.informatik.tu-darmstadt.de (public.ukp.informatik.tu-darmstadt.de)... 130.83.167.186\n",
            "Connecting to public.ukp.informatik.tu-darmstadt.de (public.ukp.informatik.tu-darmstadt.de)|130.83.167.186|:443... connected.\n",
            "HTTP request sent, awaiting response... 200 OK\n",
            "Length: 382685184 (365M) [application/octet-stream]\n",
            "Saving to: ‘index_dewiki-20190420.db’\n",
            "\n",
            "index_dewiki-201904 100%[===================>] 364.96M  4.90MB/s    in 98s     \n",
            "\n",
            "2024-10-16 16:58:54 (3.72 MB/s) - ‘index_dewiki-20190420.db’ saved [382685184/382685184]\n",
            "\n",
            "--2024-10-16 16:58:54--  https://public.ukp.informatik.tu-darmstadt.de/wikimapper/index_eswiki-20190420.db\n",
            "Resolving public.ukp.informatik.tu-darmstadt.de (public.ukp.informatik.tu-darmstadt.de)... 130.83.167.186\n",
            "Connecting to public.ukp.informatik.tu-darmstadt.de (public.ukp.informatik.tu-darmstadt.de)|130.83.167.186|:443... connected.\n",
            "HTTP request sent, awaiting response... 200 OK\n",
            "Length: 342138880 (326M) [application/octet-stream]\n",
            "Saving to: ‘index_eswiki-20190420.db’\n",
            "\n",
            "index_eswiki-201904 100%[===================>] 326.29M  3.23MB/s    in 2m 29s  \n",
            "\n",
            "2024-10-16 17:01:24 (2.19 MB/s) - ‘index_eswiki-20190420.db’ saved [342138880/342138880]\n",
            "\n",
            "--2024-10-16 17:01:24--  https://public.ukp.informatik.tu-darmstadt.de/wikimapper/index_frwiki-20190420.db\n",
            "Resolving public.ukp.informatik.tu-darmstadt.de (public.ukp.informatik.tu-darmstadt.de)... 130.83.167.186\n",
            "Connecting to public.ukp.informatik.tu-darmstadt.de (public.ukp.informatik.tu-darmstadt.de)|130.83.167.186|:443... connected.\n",
            "HTTP request sent, awaiting response... 200 OK\n",
            "Length: 381222912 (364M) [application/octet-stream]\n",
            "Saving to: ‘index_frwiki-20190420.db’\n",
            "\n",
            "index_frwiki-201904 100%[===================>] 363.56M  2.33MB/s    in 3m 11s  \n",
            "\n",
            "2024-10-16 17:04:35 (1.91 MB/s) - ‘index_frwiki-20190420.db’ saved [381222912/381222912]\n",
            "\n",
            "--2024-10-16 17:04:35--  https://public.ukp.informatik.tu-darmstadt.de/wikimapper/index_jawiki-20190420.db\n",
            "Resolving public.ukp.informatik.tu-darmstadt.de (public.ukp.informatik.tu-darmstadt.de)... 130.83.167.186\n",
            "Connecting to public.ukp.informatik.tu-darmstadt.de (public.ukp.informatik.tu-darmstadt.de)|130.83.167.186|:443... connected.\n",
            "HTTP request sent, awaiting response... 200 OK\n",
            "Length: 198504448 (189M) [application/octet-stream]\n",
            "Saving to: ‘index_jawiki-20190420.db’\n",
            "\n",
            "index_jawiki-201904 100%[===================>] 189.31M  1.78MB/s    in 94s     \n",
            "\n",
            "2024-10-16 17:06:10 (2.01 MB/s) - ‘index_jawiki-20190420.db’ saved [198504448/198504448]\n",
            "\n"
          ]
        }
      ]
    },
    {
      "cell_type": "code",
      "source": [
        "!pip install wikimapper"
      ],
      "metadata": {
        "colab": {
          "base_uri": "https://localhost:8080/"
        },
        "collapsed": true,
        "id": "VWb-Z5nQPltg",
        "outputId": "6028cb32-1500-4bc6-cb6c-e515341587fc"
      },
      "execution_count": null,
      "outputs": [
        {
          "output_type": "stream",
          "name": "stdout",
          "text": [
            "Collecting wikimapper\n",
            "  Downloading wikimapper-0.2.0.tar.gz (20 kB)\n",
            "  Preparing metadata (setup.py) ... \u001b[?25l\u001b[?25hdone\n",
            "Building wheels for collected packages: wikimapper\n",
            "  Building wheel for wikimapper (setup.py) ... \u001b[?25l\u001b[?25hdone\n",
            "  Created wheel for wikimapper: filename=wikimapper-0.2.0-py3-none-any.whl size=16136 sha256=08a54c4eac02171f4780333e92fd97080e6fc14ee69c53bd501cfe230b38a588\n",
            "  Stored in directory: /root/.cache/pip/wheels/90/ce/b3/fdf588a8581836f956a4616e6e16bc708e6dbb1f4eabb58977\n",
            "Successfully built wikimapper\n",
            "Installing collected packages: wikimapper\n",
            "Successfully installed wikimapper-0.2.0\n"
          ]
        }
      ]
    },
    {
      "cell_type": "markdown",
      "source": [
        "Mapping author to Wikidata ID"
      ],
      "metadata": {
        "id": "9Z1PcjKuJamw"
      }
    },
    {
      "cell_type": "code",
      "source": [
        "import pandas as pd\n",
        "from wikimapper import WikiMapper\n",
        "import pickle\n",
        "\n",
        "# Load the WikiMapper indices (use the correct paths)\n",
        "en_mapper = WikiMapper(\"/content/index_enwiki-20190420.db\")  # English Wikipedia index\n",
        "de_mapper = WikiMapper('/content/index_dewiki-20190420.db')  # title language is defined in index file\n",
        "es_mapper = WikiMapper('/content/index_eswiki-20190420.db')\n",
        "ja_mapper = WikiMapper('/content/index_jawiki-20190420.db')\n",
        "fr_mapper = WikiMapper('/content/index_frwiki-20190420.db')\n",
        "\n"
      ],
      "metadata": {
        "id": "79OpTrNFPWR3"
      },
      "execution_count": null,
      "outputs": []
    },
    {
      "cell_type": "code",
      "source": [
        "# Example usage\n",
        "author_list = [\"Edward Lear\", \"James Patterson\", \"Jane Austen\"]\n",
        "author_qids = {author: get_qid_for_author(author, en_mapper) for author in author_list}\n",
        "\n",
        "print(author_qids)\n"
      ],
      "metadata": {
        "colab": {
          "base_uri": "https://localhost:8080/"
        },
        "id": "pI02ay6CV7a9",
        "outputId": "9a0783a7-8377-4535-a232-5b3bf8daa0ea"
      },
      "execution_count": null,
      "outputs": [
        {
          "output_type": "stream",
          "name": "stdout",
          "text": [
            "{'Edward Lear': 'Q309759', 'James Patterson': 'Q311671', 'Jane Austen': 'Q36322'}\n"
          ]
        }
      ]
    },
    {
      "cell_type": "code",
      "source": [
        "def clean_author_name(author):\n",
        "    \"\"\"\n",
        "    Clean author names by removing extra spaces and handling multiple authors.\n",
        "    \"\"\"\n",
        "    author = str(author)\n",
        "\n",
        "    # Remove extra spaces between words\n",
        "    author = ' '.join(author.split())\n",
        "\n",
        "    # Split by '|' if there are multiple authors and return as a list\n",
        "    return author.split('|')"
      ],
      "metadata": {
        "id": "ndf0HVhC77gP"
      },
      "execution_count": null,
      "outputs": []
    },
    {
      "cell_type": "code",
      "source": [
        "def get_qid_for_author(author, en_mapper, de_mapper, es_mapper, ja_mapper, fr_mapper):\n",
        "    \"\"\"\n",
        "    Try to find the QID for an author by creating multiple variations of the author's name in multiple languages.\n",
        "    \"\"\"\n",
        "    qid = None\n",
        "\n",
        "    # Queries for English\n",
        "    en_queries = [\n",
        "        author,\n",
        "        author.replace(' ', '_'),\n",
        "        author.replace(' ', '_') + '_(novelist)',\n",
        "        author.replace(' ', '_') + '_(poet)',\n",
        "        author.replace(' ', '_') + '_(writer)',\n",
        "        author.replace(' ', '_') + '_(author)',\n",
        "        author.replace(' ', '_') + '_(journalist)',\n",
        "        author.replace(' ', '_') + '_(artist)',\n",
        "    ]\n",
        "\n",
        "    for query in en_queries:\n",
        "        qid = en_mapper.title_to_id(query)\n",
        "        if qid is not None:\n",
        "            break\n",
        "\n",
        "    # If QID not found, try German\n",
        "    if qid is None:\n",
        "        de_queries = [\n",
        "            author,\n",
        "            author.replace(' ', '_'),\n",
        "            author.replace(' ', '_') + '_(Dichter)',       # poet\n",
        "            author.replace(' ', '_') + '_(Schriftsteller)', # writer\n",
        "            author.replace(' ', '_') + '_(Autor)',          # author\n",
        "            author.replace(' ', '_') + '_(Journalist)',     # journalist\n",
        "            author.replace(' ', '_') + '_(Autorin)',        # female author\n",
        "        ]\n",
        "        for query in de_queries:\n",
        "            qid = de_mapper.title_to_id(query)\n",
        "            if qid is not None:\n",
        "                break\n",
        "\n",
        "    # If QID not found, try Spanish\n",
        "    if qid is None:\n",
        "        es_queries = [\n",
        "            author,\n",
        "            author.replace(' ', '_'),\n",
        "            author.replace(' ', '_') + '_(novelista)',  # novelist\n",
        "            author.replace(' ', '_') + '_(poeta)',      # poet\n",
        "            author.replace(' ', '_') + '_(escritor)',   # writer\n",
        "            author.replace(' ', '_') + '_(autor)',      # author\n",
        "            author.replace(' ', '_') + '_(periodista)', # journalist\n",
        "        ]\n",
        "        for query in es_queries:\n",
        "            qid = es_mapper.title_to_id(query)\n",
        "            if qid is not None:\n",
        "                break\n",
        "\n",
        "    # If QID not found, try Japanese\n",
        "    if qid is None:\n",
        "        ja_queries = [\n",
        "            author,\n",
        "            author.replace(' ', '_'),\n",
        "            author.replace(' ', '_') + '_(小説家)',    # novelist\n",
        "            author.replace(' ', '_') + '_(詩人)',      # poet\n",
        "            author.replace(' ', '_') + '_(作家)',      # writer\n",
        "            author.replace(' ', '_') + '_(著者)',      # author\n",
        "            author.replace(' ', '_') + '_(ジャーナリスト)', # journalist\n",
        "        ]\n",
        "        for query in ja_queries:\n",
        "            qid = ja_mapper.title_to_id(query)\n",
        "            if qid is not None:\n",
        "                break\n",
        "\n",
        "    # If QID not found, try French\n",
        "    if qid is None:\n",
        "        fr_queries = [\n",
        "            author,\n",
        "            author.replace(' ', '_'),\n",
        "            author.replace(' ', '_') + '_(romancier)',   # novelist\n",
        "            author.replace(' ', '_') + '_(poète)',       # poet\n",
        "            author.replace(' ', '_') + '_(écrivain)',    # writer\n",
        "            author.replace(' ', '_') + '_(auteur)',      # author\n",
        "            author.replace(' ', '_') + '_(journaliste)', # journalist\n",
        "        ]\n",
        "        for query in fr_queries:\n",
        "            qid = fr_mapper.title_to_id(query)\n",
        "            if qid is not None:\n",
        "                break\n",
        "\n",
        "    return qid  # Return QID if found, otherwise None\n",
        "\n",
        "def map_authors_to_qids(csv_file, output_pickle_file, unique_authors_file, authors_without_qid_file):\n",
        "    # Read the CSV file\n",
        "    df = pd.read_csv(csv_file)\n",
        "\n",
        "    # Get unique authors from the 'Book Author' column\n",
        "    unique_authors = set()\n",
        "\n",
        "    # Clean author names and add each individual author to the set\n",
        "    for authors in df['Book Author'].unique():\n",
        "        cleaned_authors = clean_author_name(str(authors))\n",
        "        unique_authors.update(cleaned_authors)\n",
        "\n",
        "    # Initialize a dictionary to store author -> QID mapping\n",
        "    author_qids = {}\n",
        "\n",
        "    # Track authors with no QID\n",
        "    no_qid_authors = []\n",
        "\n",
        "    # Map each author to a QID\n",
        "    for author in unique_authors:\n",
        "        qid = get_qid_for_author(str(author), en_mapper, de_mapper, es_mapper, ja_mapper, fr_mapper)\n",
        "        if qid is None:\n",
        "            no_qid_authors.append(author)\n",
        "            continue\n",
        "        author_qids[author] = qid\n",
        "\n",
        "\n",
        "    # Print statistics\n",
        "    print(f\"Total authors: {len(unique_authors)}\")\n",
        "    print(f\"Authors without QID: {len(no_qid_authors)}\")\n",
        "\n",
        "    # Save the dictionary to a pickle file\n",
        "    with open(output_pickle_file, 'wb') as f:\n",
        "        pickle.dump(author_qids, f)\n",
        "\n",
        "    print(f\"Author-QID mapping saved to {output_pickle_file}\")\n",
        "\n",
        "    # Save all unique author names to a text file\n",
        "    with open(unique_authors_file, 'w') as f:\n",
        "        for author in unique_authors:\n",
        "            f.write(f\"{author}\\n\")\n",
        "\n",
        "    print(f\"Unique authors saved to {unique_authors_file}\")\n",
        "\n",
        "    # Save authors without QID to a text file\n",
        "    with open(authors_without_qid_file, 'w') as f:\n",
        "        for author in no_qid_authors:\n",
        "            f.write(f\"{author}\\n\")\n",
        "\n",
        "    print(f\"Authors without QID saved to {authors_without_qid_file}\")\n",
        "\n",
        "# Example usage\n",
        "csv_file = '/content/book_summaries.csv'  # Replace with your CSV file\n",
        "output_pickle_file = 'author_qid_mapping.pickle'  # Output pickle file\n",
        "unique_authors_file = 'unique_authors.txt'  # Output text file for unique authors\n",
        "authors_without_qid_file = 'authors_without_qid.txt'  # Output text file for authors without QIDs\n",
        "\n",
        "map_authors_to_qids(csv_file, output_pickle_file, unique_authors_file, authors_without_qid_file)\n"
      ],
      "metadata": {
        "colab": {
          "base_uri": "https://localhost:8080/"
        },
        "id": "JZCo7q9Gf-dm",
        "outputId": "c222403a-0223-4547-c419-400301c6163d"
      },
      "execution_count": null,
      "outputs": [
        {
          "output_type": "stream",
          "name": "stdout",
          "text": [
            "Total authors: 6372\n",
            "Authors without QID: 1982\n",
            "Author-QID mapping saved to author_qid_mapping.pickle\n",
            "Unique authors saved to unique_authors.txt\n",
            "Authors without QID saved to authors_without_qid.txt\n"
          ]
        }
      ]
    },
    {
      "cell_type": "markdown",
      "source": [
        "Check"
      ],
      "metadata": {
        "id": "JUAYuUwcKC_0"
      }
    },
    {
      "cell_type": "code",
      "source": [
        "import pandas as pd\n",
        "import pickle\n",
        "with open('/content/author_qid_mapping (2).pickle', 'rb') as f:\n",
        "    author_qid_dict = pickle.load(f)"
      ],
      "metadata": {
        "id": "gQPpnj9o5kx2"
      },
      "execution_count": null,
      "outputs": []
    },
    {
      "cell_type": "code",
      "source": [
        "def normalize_author_name(name):\n",
        "    \"\"\"Normalize the author name by converting to lowercase and removing spaces.\"\"\"\n",
        "    return str(name).lower().replace(' ', '')"
      ],
      "metadata": {
        "id": "2MBR-HOiEe2o"
      },
      "execution_count": null,
      "outputs": []
    },
    {
      "cell_type": "code",
      "source": [
        "with open('/content/author2embedding.pickle', 'rb') as f:\n",
        "    author2embed = pickle.load(f)\n",
        "normalized_author2embed = {normalize_author_name(author): embedding for author, embedding in author2embed.items()}"
      ],
      "metadata": {
        "id": "ADQ2_l47ENEA"
      },
      "execution_count": null,
      "outputs": []
    },
    {
      "cell_type": "code",
      "source": [
        "# Load dataset\n",
        "df = pd.read_csv('/content/book_summaries.csv')\n",
        "print('Total samples: ', len(df))\n",
        "\n",
        "# List to save authors not found in author_qid_dict\n",
        "not_found_authors = []\n",
        "count = 0\n",
        "\n",
        "# Iterate through unique authors in dataset\n",
        "for authors in df['Book Author'].unique():\n",
        "    # Clean the author names\n",
        "    cleaned_authors = clean_author_name(authors)\n",
        "\n",
        "    # Check if any author is in the author_qid_dict\n",
        "    if all(normalize_author_name(author) not in normalized_author2embed for author in cleaned_authors):\n",
        "        count += 1\n",
        "        not_found_authors.extend(cleaned_authors)\n",
        "\n",
        "print('Sample without authors embedding: ', count)\n",
        "print(len(not_found_authors))"
      ],
      "metadata": {
        "colab": {
          "base_uri": "https://localhost:8080/"
        },
        "id": "qukMtiGS6S_X",
        "outputId": "486a5774-eb73-4b5f-b9a9-40166a29e9f1"
      },
      "execution_count": null,
      "outputs": [
        {
          "output_type": "stream",
          "name": "stdout",
          "text": [
            "Total samples:  13608\n",
            "Sample without authors embedding:  1409\n",
            "1510\n"
          ]
        }
      ]
    },
    {
      "cell_type": "code",
      "source": [
        "with open(authors_without_qid_file, 'w') as f:\n",
        "        for author in not_found_authors:\n",
        "            f.write(f\"{author}\\n\")"
      ],
      "metadata": {
        "id": "RasFg5mu7yfK"
      },
      "execution_count": null,
      "outputs": []
    },
    {
      "cell_type": "code",
      "source": [],
      "metadata": {
        "id": "7JsUZ2A5WBhS"
      },
      "execution_count": null,
      "outputs": []
    }
  ]
}