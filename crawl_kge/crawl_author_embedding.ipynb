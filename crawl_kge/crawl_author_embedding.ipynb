{
  "nbformat": 4,
  "nbformat_minor": 0,
  "metadata": {
    "colab": {
      "provenance": []
    },
    "kernelspec": {
      "name": "python3",
      "display_name": "Python 3"
    },
    "language_info": {
      "name": "python"
    }
  },
  "cells": [
    {
      "cell_type": "markdown",
      "source": [
        "Download Pytorch BigGraph pretrained embedding"
      ],
      "metadata": {
        "id": "hu-sNIzmCXlo"
      }
    },
    {
      "cell_type": "code",
      "execution_count": null,
      "metadata": {
        "colab": {
          "base_uri": "https://localhost:8080/"
        },
        "id": "T7BWx-E5P42E",
        "outputId": "54f30b1c-0140-400b-e6e9-a470f9c6e713"
      },
      "outputs": [
        {
          "output_type": "stream",
          "name": "stdout",
          "text": [
            "--2024-10-16 16:54:05--  https://dl.fbaipublicfiles.com/torchbiggraph/wikidata_translation_v1.tsv.gz\n",
            "Resolving dl.fbaipublicfiles.com (dl.fbaipublicfiles.com)... 3.163.189.108, 3.163.189.51, 3.163.189.96, ...\n",
            "Connecting to dl.fbaipublicfiles.com (dl.fbaipublicfiles.com)|3.163.189.108|:443... connected.\n",
            "HTTP request sent, awaiting response... 200 OK\n",
            "Length: 38830884950 (36G) [application/gzip]\n",
            "Saving to: ‘wikidata_translation_v1.tsv.gz’\n",
            "\n",
            "wikidata_translatio 100%[===================>]  36.16G  41.4MB/s    in 13m 38s \n",
            "\n",
            "2024-10-16 17:07:43 (45.3 MB/s) - ‘wikidata_translation_v1.tsv.gz’ saved [38830884950/38830884950]\n",
            "\n"
          ]
        }
      ],
      "source": [
        "!wget https://dl.fbaipublicfiles.com/torchbiggraph/wikidata_translation_v1.tsv.gz -O wikidata_translation_v1.tsv.gz\n"
      ]
    },
    {
      "cell_type": "markdown",
      "source": [
        "Query knowledge graph embedding for authors"
      ],
      "metadata": {
        "id": "QI1skAutCi1t"
      }
    },
    {
      "cell_type": "code",
      "source": [
        "import pickle\n",
        "import numpy as np\n",
        "from smart_open import open\n",
        "import tqdm\n"
      ],
      "metadata": {
        "id": "q8GN_j0jYOTB"
      },
      "execution_count": null,
      "outputs": []
    },
    {
      "cell_type": "code",
      "source": [
        "# load mapping from author to Wikidata ID\n",
        "with open('/content/author_qid_mapping (2).pickle', 'rb') as f:\n",
        "    author2qid = pickle.load(f)"
      ],
      "metadata": {
        "id": "WRQRvRK-Yf67"
      },
      "execution_count": null,
      "outputs": []
    },
    {
      "cell_type": "code",
      "source": [
        "# reverse dict\n",
        "qid2author = {qid: author for author, qid in author2qid.items()}"
      ],
      "metadata": {
        "id": "TX5GqkI7YuKj"
      },
      "execution_count": null,
      "outputs": []
    },
    {
      "cell_type": "code",
      "source": [
        "# query knowledge graph embedding for authors\n",
        "from tqdm import tqdm\n",
        "import numpy as np\n",
        "import pickle\n",
        "\n",
        "def map_authors_to_embeddings(graph_embedding_file, qid2author, out_file):\n",
        "    author2embedding = {}\n",
        "\n",
        "    # Open the graph embedding file\n",
        "    with open(graph_embedding_file, encoding='utf-8') as fp:\n",
        "        total_lines = sum(1 for line in fp)  # Get total lines for progress bar\n",
        "        fp.seek(0)  # Reset file pointer after counting lines\n",
        "\n",
        "        # Use tqdm to show a progress bar\n",
        "        for line in tqdm(fp, total=total_lines, desc=\"Processing embeddings\"):\n",
        "            cols = line.split('\\t')  # Split each line into columns\n",
        "\n",
        "            entity_id = cols[0]\n",
        "\n",
        "            # Check if the entity is a valid Wikidata QID\n",
        "            if entity_id.startswith('<http://www.wikidata.org/entity/Q') and entity_id.endswith('>'):\n",
        "                entity_id = entity_id.replace('<http://www.wikidata.org/entity/', '').replace('>', '')  # Extract QID\n",
        "\n",
        "                # Check if the entity is in the selected entities and map it to the author\n",
        "                if entity_id in qid2author:\n",
        "                    author = qid2author[entity_id]\n",
        "                    author2embedding[author] = np.array(cols[1:]).astype(np.float64)\n",
        "\n",
        "    # Save the author-to-embedding dictionary to a pickle file\n",
        "    with open(out_file, 'wb') as f:\n",
        "        pickle.dump(author2embedding, f)\n",
        "\n",
        "    print(f'Saved author-embedding mappings to {out_file}')\n"
      ],
      "metadata": {
        "id": "vxtDvkJ4Yw93"
      },
      "execution_count": null,
      "outputs": []
    },
    {
      "cell_type": "code",
      "source": [
        "map_authors_to_embeddings('/content/wikidata_translation_v1.tsv.gz', qid2author, 'author2embedding.pickle')"
      ],
      "metadata": {
        "colab": {
          "base_uri": "https://localhost:8080/"
        },
        "id": "-FFVrzkuZb9q",
        "outputId": "3fb42e56-2585-40a7-84e9-3e254cd437bd"
      },
      "execution_count": null,
      "outputs": [
        {
          "output_type": "stream",
          "name": "stderr",
          "text": [
            "Processing embeddings: 100%|██████████| 78413186/78413186 [36:55<00:00, 35398.37it/s]\n"
          ]
        },
        {
          "output_type": "stream",
          "name": "stdout",
          "text": [
            "Saved author-embedding mappings to author2embedding.pickle\n"
          ]
        }
      ]
    },
    {
      "cell_type": "markdown",
      "source": [
        "Check"
      ],
      "metadata": {
        "id": "3UDDkGdUI8ox"
      }
    },
    {
      "cell_type": "code",
      "source": [
        "with open('/content/author2embedding.pickle', 'rb') as f:\n",
        "    author2embedding = pickle.load(f)"
      ],
      "metadata": {
        "id": "3mC8q7PvqTK6"
      },
      "execution_count": null,
      "outputs": []
    },
    {
      "cell_type": "code",
      "source": [
        "len(author2embedding)"
      ],
      "metadata": {
        "colab": {
          "base_uri": "https://localhost:8080/"
        },
        "id": "s834LiWAqbWu",
        "outputId": "dc9be0f7-a300-4dec-9275-c88e46111ff4"
      },
      "execution_count": null,
      "outputs": [
        {
          "output_type": "execute_result",
          "data": {
            "text/plain": [
              "4302"
            ]
          },
          "metadata": {},
          "execution_count": 24
        }
      ]
    }
  ]
}