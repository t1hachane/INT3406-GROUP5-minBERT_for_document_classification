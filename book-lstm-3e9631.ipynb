{
 "cells": [
  {
   "cell_type": "markdown",
   "id": "c5954dba",
   "metadata": {
    "papermill": {
     "duration": 0.002125,
     "end_time": "2024-11-30T17:08:05.027152",
     "exception": false,
     "start_time": "2024-11-30T17:08:05.025027",
     "status": "completed"
    },
    "tags": []
   },
   "source": [
    "# Fasttext Embedding + Bidirectional LSTM 4 layer"
   ]
  },
  {
   "cell_type": "code",
   "execution_count": null,
   "id": "6bc39bf4",
   "metadata": {
    "execution": {
     "iopub.execute_input": "2024-11-30T17:08:05.032710Z",
     "iopub.status.busy": "2024-11-30T17:08:05.032023Z",
     "iopub.status.idle": "2024-11-30T19:21:58.916913Z",
     "shell.execute_reply": "2024-11-30T19:21:58.915963Z"
    },
    "papermill": {
     "duration": 8033.890055,
     "end_time": "2024-11-30T19:21:58.918898",
     "exception": false,
     "start_time": "2024-11-30T17:08:05.028843",
     "status": "completed"
    },
    "tags": []
   },
   "outputs": [
    {
     "name": "stdout",
     "output_type": "stream",
     "text": [
      "[==================================================] 100.0% 958.5/958.4MB downloaded\n",
      "No checkpoint found. Starting training from scratch.\n"
     ]
    },
    {
     "name": "stderr",
     "output_type": "stream",
     "text": [
      "Training Epoch 1/75: 100%|██████████| 362/362 [01:36<00:00,  3.76it/s]\n",
      "/opt/conda/lib/python3.10/site-packages/sklearn/metrics/_classification.py:1344: UndefinedMetricWarning: Precision is ill-defined and being set to 0.0 in labels with no predicted samples. Use `zero_division` parameter to control this behavior.\n",
      "  _warn_prf(average, modifier, msg_start, len(result))\n"
     ]
    },
    {
     "name": "stdout",
     "output_type": "stream",
     "text": [
      "Epoch 1 | Train Loss: 1.9650 | Train Acc: 0.2070 | Val Acc: 0.2365 | Val F1: 0.0921\n",
      "Checkpoint saved.\n"
     ]
    },
    {
     "name": "stderr",
     "output_type": "stream",
     "text": [
      "Training Epoch 2/75: 100%|██████████| 362/362 [01:36<00:00,  3.73it/s]\n",
      "/opt/conda/lib/python3.10/site-packages/sklearn/metrics/_classification.py:1344: UndefinedMetricWarning: Precision is ill-defined and being set to 0.0 in labels with no predicted samples. Use `zero_division` parameter to control this behavior.\n",
      "  _warn_prf(average, modifier, msg_start, len(result))\n"
     ]
    },
    {
     "name": "stdout",
     "output_type": "stream",
     "text": [
      "Epoch 2 | Train Loss: 1.9113 | Train Acc: 0.2333 | Val Acc: 0.2344 | Val F1: 0.1290\n"
     ]
    },
    {
     "name": "stderr",
     "output_type": "stream",
     "text": [
      "Training Epoch 3/75: 100%|██████████| 362/362 [01:37<00:00,  3.71it/s]\n",
      "/opt/conda/lib/python3.10/site-packages/sklearn/metrics/_classification.py:1344: UndefinedMetricWarning: Precision is ill-defined and being set to 0.0 in labels with no predicted samples. Use `zero_division` parameter to control this behavior.\n",
      "  _warn_prf(average, modifier, msg_start, len(result))\n"
     ]
    },
    {
     "name": "stdout",
     "output_type": "stream",
     "text": [
      "Epoch 3 | Train Loss: 1.9036 | Train Acc: 0.2351 | Val Acc: 0.2372 | Val F1: 0.1034\n",
      "Checkpoint saved.\n"
     ]
    },
    {
     "name": "stderr",
     "output_type": "stream",
     "text": [
      "Training Epoch 4/75: 100%|██████████| 362/362 [01:36<00:00,  3.76it/s]\n",
      "/opt/conda/lib/python3.10/site-packages/sklearn/metrics/_classification.py:1344: UndefinedMetricWarning: Precision is ill-defined and being set to 0.0 in labels with no predicted samples. Use `zero_division` parameter to control this behavior.\n",
      "  _warn_prf(average, modifier, msg_start, len(result))\n"
     ]
    },
    {
     "name": "stdout",
     "output_type": "stream",
     "text": [
      "Epoch 4 | Train Loss: 1.8985 | Train Acc: 0.2371 | Val Acc: 0.2400 | Val F1: 0.0984\n",
      "Checkpoint saved.\n"
     ]
    },
    {
     "name": "stderr",
     "output_type": "stream",
     "text": [
      "Training Epoch 5/75: 100%|██████████| 362/362 [01:36<00:00,  3.74it/s]\n",
      "/opt/conda/lib/python3.10/site-packages/sklearn/metrics/_classification.py:1344: UndefinedMetricWarning: Precision is ill-defined and being set to 0.0 in labels with no predicted samples. Use `zero_division` parameter to control this behavior.\n",
      "  _warn_prf(average, modifier, msg_start, len(result))\n"
     ]
    },
    {
     "name": "stdout",
     "output_type": "stream",
     "text": [
      "Epoch 5 | Train Loss: 1.8938 | Train Acc: 0.2441 | Val Acc: 0.2393 | Val F1: 0.1066\n"
     ]
    },
    {
     "name": "stderr",
     "output_type": "stream",
     "text": [
      "Training Epoch 6/75: 100%|██████████| 362/362 [01:36<00:00,  3.74it/s]\n",
      "/opt/conda/lib/python3.10/site-packages/sklearn/metrics/_classification.py:1344: UndefinedMetricWarning: Precision is ill-defined and being set to 0.0 in labels with no predicted samples. Use `zero_division` parameter to control this behavior.\n",
      "  _warn_prf(average, modifier, msg_start, len(result))\n"
     ]
    },
    {
     "name": "stdout",
     "output_type": "stream",
     "text": [
      "Epoch 6 | Train Loss: 1.8925 | Train Acc: 0.2410 | Val Acc: 0.2316 | Val F1: 0.0909\n"
     ]
    },
    {
     "name": "stderr",
     "output_type": "stream",
     "text": [
      "Training Epoch 7/75: 100%|██████████| 362/362 [01:36<00:00,  3.74it/s]\n",
      "/opt/conda/lib/python3.10/site-packages/sklearn/metrics/_classification.py:1344: UndefinedMetricWarning: Precision is ill-defined and being set to 0.0 in labels with no predicted samples. Use `zero_division` parameter to control this behavior.\n",
      "  _warn_prf(average, modifier, msg_start, len(result))\n"
     ]
    },
    {
     "name": "stdout",
     "output_type": "stream",
     "text": [
      "Epoch 7 | Train Loss: 1.8907 | Train Acc: 0.2398 | Val Acc: 0.2309 | Val F1: 0.1190\n"
     ]
    },
    {
     "name": "stderr",
     "output_type": "stream",
     "text": [
      "Training Epoch 8/75: 100%|██████████| 362/362 [01:37<00:00,  3.72it/s]\n",
      "/opt/conda/lib/python3.10/site-packages/sklearn/metrics/_classification.py:1344: UndefinedMetricWarning: Precision is ill-defined and being set to 0.0 in labels with no predicted samples. Use `zero_division` parameter to control this behavior.\n",
      "  _warn_prf(average, modifier, msg_start, len(result))\n"
     ]
    },
    {
     "name": "stdout",
     "output_type": "stream",
     "text": [
      "Epoch 8 | Train Loss: 1.8806 | Train Acc: 0.2511 | Val Acc: 0.2400 | Val F1: 0.1325\n"
     ]
    },
    {
     "name": "stderr",
     "output_type": "stream",
     "text": [
      "Training Epoch 9/75: 100%|██████████| 362/362 [01:37<00:00,  3.71it/s]\n",
      "/opt/conda/lib/python3.10/site-packages/sklearn/metrics/_classification.py:1344: UndefinedMetricWarning: Precision is ill-defined and being set to 0.0 in labels with no predicted samples. Use `zero_division` parameter to control this behavior.\n",
      "  _warn_prf(average, modifier, msg_start, len(result))\n"
     ]
    },
    {
     "name": "stdout",
     "output_type": "stream",
     "text": [
      "Epoch 9 | Train Loss: 1.8774 | Train Acc: 0.2500 | Val Acc: 0.2526 | Val F1: 0.1558\n",
      "Checkpoint saved.\n"
     ]
    },
    {
     "name": "stderr",
     "output_type": "stream",
     "text": [
      "Training Epoch 10/75: 100%|██████████| 362/362 [01:37<00:00,  3.70it/s]\n",
      "/opt/conda/lib/python3.10/site-packages/sklearn/metrics/_classification.py:1344: UndefinedMetricWarning: Precision is ill-defined and being set to 0.0 in labels with no predicted samples. Use `zero_division` parameter to control this behavior.\n",
      "  _warn_prf(average, modifier, msg_start, len(result))\n"
     ]
    },
    {
     "name": "stdout",
     "output_type": "stream",
     "text": [
      "Epoch 10 | Train Loss: 1.8502 | Train Acc: 0.2692 | Val Acc: 0.2876 | Val F1: 0.1904\n",
      "Checkpoint saved.\n"
     ]
    },
    {
     "name": "stderr",
     "output_type": "stream",
     "text": [
      "Training Epoch 11/75: 100%|██████████| 362/362 [01:36<00:00,  3.75it/s]\n",
      "/opt/conda/lib/python3.10/site-packages/sklearn/metrics/_classification.py:1344: UndefinedMetricWarning: Precision is ill-defined and being set to 0.0 in labels with no predicted samples. Use `zero_division` parameter to control this behavior.\n",
      "  _warn_prf(average, modifier, msg_start, len(result))\n"
     ]
    },
    {
     "name": "stdout",
     "output_type": "stream",
     "text": [
      "Epoch 11 | Train Loss: 1.8530 | Train Acc: 0.2637 | Val Acc: 0.2561 | Val F1: 0.1470\n"
     ]
    },
    {
     "name": "stderr",
     "output_type": "stream",
     "text": [
      "Training Epoch 12/75: 100%|██████████| 362/362 [01:36<00:00,  3.75it/s]\n",
      "/opt/conda/lib/python3.10/site-packages/sklearn/metrics/_classification.py:1344: UndefinedMetricWarning: Precision is ill-defined and being set to 0.0 in labels with no predicted samples. Use `zero_division` parameter to control this behavior.\n",
      "  _warn_prf(average, modifier, msg_start, len(result))\n"
     ]
    },
    {
     "name": "stdout",
     "output_type": "stream",
     "text": [
      "Epoch 12 | Train Loss: 1.8058 | Train Acc: 0.2902 | Val Acc: 0.2638 | Val F1: 0.2182\n"
     ]
    },
    {
     "name": "stderr",
     "output_type": "stream",
     "text": [
      "Training Epoch 13/75: 100%|██████████| 362/362 [01:37<00:00,  3.70it/s]\n"
     ]
    },
    {
     "name": "stdout",
     "output_type": "stream",
     "text": [
      "Epoch 13 | Train Loss: 1.7837 | Train Acc: 0.2980 | Val Acc: 0.3100 | Val F1: 0.2474\n",
      "Checkpoint saved.\n"
     ]
    },
    {
     "name": "stderr",
     "output_type": "stream",
     "text": [
      "Training Epoch 14/75: 100%|██████████| 362/362 [01:38<00:00,  3.69it/s]\n",
      "/opt/conda/lib/python3.10/site-packages/sklearn/metrics/_classification.py:1344: UndefinedMetricWarning: Precision is ill-defined and being set to 0.0 in labels with no predicted samples. Use `zero_division` parameter to control this behavior.\n",
      "  _warn_prf(average, modifier, msg_start, len(result))\n"
     ]
    },
    {
     "name": "stdout",
     "output_type": "stream",
     "text": [
      "Epoch 14 | Train Loss: 1.7255 | Train Acc: 0.3224 | Val Acc: 0.3198 | Val F1: 0.2604\n",
      "Checkpoint saved.\n"
     ]
    },
    {
     "name": "stderr",
     "output_type": "stream",
     "text": [
      "Training Epoch 15/75: 100%|██████████| 362/362 [01:37<00:00,  3.71it/s]\n"
     ]
    },
    {
     "name": "stdout",
     "output_type": "stream",
     "text": [
      "Epoch 15 | Train Loss: 1.7991 | Train Acc: 0.2860 | Val Acc: 0.3107 | Val F1: 0.2606\n"
     ]
    },
    {
     "name": "stderr",
     "output_type": "stream",
     "text": [
      "Training Epoch 16/75: 100%|██████████| 362/362 [01:37<00:00,  3.72it/s]\n",
      "/opt/conda/lib/python3.10/site-packages/sklearn/metrics/_classification.py:1344: UndefinedMetricWarning: Precision is ill-defined and being set to 0.0 in labels with no predicted samples. Use `zero_division` parameter to control this behavior.\n",
      "  _warn_prf(average, modifier, msg_start, len(result))\n"
     ]
    },
    {
     "name": "stdout",
     "output_type": "stream",
     "text": [
      "Epoch 16 | Train Loss: 1.6808 | Train Acc: 0.3363 | Val Acc: 0.3324 | Val F1: 0.2937\n",
      "Checkpoint saved.\n"
     ]
    },
    {
     "name": "stderr",
     "output_type": "stream",
     "text": [
      "Training Epoch 17/75: 100%|██████████| 362/362 [01:37<00:00,  3.73it/s]\n"
     ]
    },
    {
     "name": "stdout",
     "output_type": "stream",
     "text": [
      "Epoch 17 | Train Loss: 1.6039 | Train Acc: 0.3743 | Val Acc: 0.3744 | Val F1: 0.3503\n",
      "Checkpoint saved.\n"
     ]
    },
    {
     "name": "stderr",
     "output_type": "stream",
     "text": [
      "Training Epoch 18/75: 100%|██████████| 362/362 [01:36<00:00,  3.73it/s]\n"
     ]
    },
    {
     "name": "stdout",
     "output_type": "stream",
     "text": [
      "Epoch 18 | Train Loss: 1.5492 | Train Acc: 0.3981 | Val Acc: 0.3667 | Val F1: 0.3167\n"
     ]
    },
    {
     "name": "stderr",
     "output_type": "stream",
     "text": [
      "Training Epoch 19/75: 100%|██████████| 362/362 [01:36<00:00,  3.75it/s]\n"
     ]
    },
    {
     "name": "stdout",
     "output_type": "stream",
     "text": [
      "Epoch 19 | Train Loss: 1.5380 | Train Acc: 0.4012 | Val Acc: 0.4045 | Val F1: 0.3841\n",
      "Checkpoint saved.\n"
     ]
    },
    {
     "name": "stderr",
     "output_type": "stream",
     "text": [
      "Training Epoch 20/75: 100%|██████████| 362/362 [01:37<00:00,  3.73it/s]\n"
     ]
    },
    {
     "name": "stdout",
     "output_type": "stream",
     "text": [
      "Epoch 20 | Train Loss: 1.4821 | Train Acc: 0.4257 | Val Acc: 0.4185 | Val F1: 0.3769\n",
      "Checkpoint saved.\n"
     ]
    },
    {
     "name": "stderr",
     "output_type": "stream",
     "text": [
      "Training Epoch 21/75: 100%|██████████| 362/362 [01:37<00:00,  3.70it/s]\n"
     ]
    },
    {
     "name": "stdout",
     "output_type": "stream",
     "text": [
      "Epoch 21 | Train Loss: 1.4430 | Train Acc: 0.4491 | Val Acc: 0.4017 | Val F1: 0.3561\n"
     ]
    },
    {
     "name": "stderr",
     "output_type": "stream",
     "text": [
      "Training Epoch 22/75: 100%|██████████| 362/362 [01:37<00:00,  3.70it/s]\n"
     ]
    },
    {
     "name": "stdout",
     "output_type": "stream",
     "text": [
      "Epoch 22 | Train Loss: 1.3997 | Train Acc: 0.4606 | Val Acc: 0.4059 | Val F1: 0.3913\n"
     ]
    },
    {
     "name": "stderr",
     "output_type": "stream",
     "text": [
      "Training Epoch 23/75: 100%|██████████| 362/362 [01:37<00:00,  3.71it/s]\n"
     ]
    },
    {
     "name": "stdout",
     "output_type": "stream",
     "text": [
      "Epoch 23 | Train Loss: 1.3964 | Train Acc: 0.4672 | Val Acc: 0.4171 | Val F1: 0.3931\n"
     ]
    },
    {
     "name": "stderr",
     "output_type": "stream",
     "text": [
      "Training Epoch 24/75: 100%|██████████| 362/362 [01:37<00:00,  3.72it/s]\n"
     ]
    },
    {
     "name": "stdout",
     "output_type": "stream",
     "text": [
      "Epoch 24 | Train Loss: 1.3682 | Train Acc: 0.4740 | Val Acc: 0.4500 | Val F1: 0.4172\n",
      "Checkpoint saved.\n"
     ]
    },
    {
     "name": "stderr",
     "output_type": "stream",
     "text": [
      "Training Epoch 25/75: 100%|██████████| 362/362 [01:37<00:00,  3.71it/s]\n"
     ]
    },
    {
     "name": "stdout",
     "output_type": "stream",
     "text": [
      "Epoch 25 | Train Loss: 1.3226 | Train Acc: 0.4885 | Val Acc: 0.4514 | Val F1: 0.4073\n",
      "Checkpoint saved.\n"
     ]
    },
    {
     "name": "stderr",
     "output_type": "stream",
     "text": [
      "Training Epoch 26/75: 100%|██████████| 362/362 [01:37<00:00,  3.72it/s]\n"
     ]
    },
    {
     "name": "stdout",
     "output_type": "stream",
     "text": [
      "Epoch 26 | Train Loss: 1.2729 | Train Acc: 0.5144 | Val Acc: 0.4542 | Val F1: 0.4232\n",
      "Checkpoint saved.\n"
     ]
    },
    {
     "name": "stderr",
     "output_type": "stream",
     "text": [
      "Training Epoch 27/75: 100%|██████████| 362/362 [01:36<00:00,  3.74it/s]\n"
     ]
    },
    {
     "name": "stdout",
     "output_type": "stream",
     "text": [
      "Epoch 27 | Train Loss: 1.2517 | Train Acc: 0.5188 | Val Acc: 0.4549 | Val F1: 0.4243\n",
      "Checkpoint saved.\n"
     ]
    },
    {
     "name": "stderr",
     "output_type": "stream",
     "text": [
      "Training Epoch 28/75: 100%|██████████| 362/362 [01:36<00:00,  3.75it/s]\n"
     ]
    },
    {
     "name": "stdout",
     "output_type": "stream",
     "text": [
      "Epoch 28 | Train Loss: 1.2072 | Train Acc: 0.5379 | Val Acc: 0.4871 | Val F1: 0.4505\n",
      "Checkpoint saved.\n"
     ]
    },
    {
     "name": "stderr",
     "output_type": "stream",
     "text": [
      "Training Epoch 29/75: 100%|██████████| 362/362 [01:36<00:00,  3.74it/s]\n"
     ]
    },
    {
     "name": "stdout",
     "output_type": "stream",
     "text": [
      "Epoch 29 | Train Loss: 1.1728 | Train Acc: 0.5575 | Val Acc: 0.4822 | Val F1: 0.4568\n"
     ]
    },
    {
     "name": "stderr",
     "output_type": "stream",
     "text": [
      "Training Epoch 30/75: 100%|██████████| 362/362 [01:37<00:00,  3.72it/s]\n"
     ]
    },
    {
     "name": "stdout",
     "output_type": "stream",
     "text": [
      "Epoch 30 | Train Loss: 1.1286 | Train Acc: 0.5726 | Val Acc: 0.4885 | Val F1: 0.4644\n",
      "Checkpoint saved.\n"
     ]
    },
    {
     "name": "stderr",
     "output_type": "stream",
     "text": [
      "Training Epoch 31/75: 100%|██████████| 362/362 [01:36<00:00,  3.74it/s]\n"
     ]
    },
    {
     "name": "stdout",
     "output_type": "stream",
     "text": [
      "Epoch 31 | Train Loss: 1.0885 | Train Acc: 0.5860 | Val Acc: 0.5052 | Val F1: 0.4730\n",
      "Checkpoint saved.\n"
     ]
    },
    {
     "name": "stderr",
     "output_type": "stream",
     "text": [
      "Training Epoch 32/75: 100%|██████████| 362/362 [01:36<00:00,  3.75it/s]\n"
     ]
    },
    {
     "name": "stdout",
     "output_type": "stream",
     "text": [
      "Epoch 32 | Train Loss: 1.0684 | Train Acc: 0.5980 | Val Acc: 0.5164 | Val F1: 0.4778\n",
      "Checkpoint saved.\n"
     ]
    },
    {
     "name": "stderr",
     "output_type": "stream",
     "text": [
      "Training Epoch 33/75: 100%|██████████| 362/362 [01:36<00:00,  3.74it/s]\n"
     ]
    },
    {
     "name": "stdout",
     "output_type": "stream",
     "text": [
      "Epoch 33 | Train Loss: 1.0192 | Train Acc: 0.6159 | Val Acc: 0.5262 | Val F1: 0.4894\n",
      "Checkpoint saved.\n"
     ]
    },
    {
     "name": "stderr",
     "output_type": "stream",
     "text": [
      "Training Epoch 34/75: 100%|██████████| 362/362 [01:37<00:00,  3.73it/s]\n"
     ]
    },
    {
     "name": "stdout",
     "output_type": "stream",
     "text": [
      "Epoch 34 | Train Loss: 0.9847 | Train Acc: 0.6268 | Val Acc: 0.5276 | Val F1: 0.5000\n",
      "Checkpoint saved.\n"
     ]
    },
    {
     "name": "stderr",
     "output_type": "stream",
     "text": [
      "Training Epoch 35/75: 100%|██████████| 362/362 [01:36<00:00,  3.74it/s]\n"
     ]
    },
    {
     "name": "stdout",
     "output_type": "stream",
     "text": [
      "Epoch 35 | Train Loss: 0.9522 | Train Acc: 0.6370 | Val Acc: 0.5199 | Val F1: 0.4910\n"
     ]
    },
    {
     "name": "stderr",
     "output_type": "stream",
     "text": [
      "Training Epoch 36/75: 100%|██████████| 362/362 [01:36<00:00,  3.75it/s]\n"
     ]
    },
    {
     "name": "stdout",
     "output_type": "stream",
     "text": [
      "Epoch 36 | Train Loss: 0.9209 | Train Acc: 0.6473 | Val Acc: 0.5122 | Val F1: 0.4809\n"
     ]
    },
    {
     "name": "stderr",
     "output_type": "stream",
     "text": [
      "Training Epoch 37/75: 100%|██████████| 362/362 [01:36<00:00,  3.73it/s]\n"
     ]
    },
    {
     "name": "stdout",
     "output_type": "stream",
     "text": [
      "Epoch 37 | Train Loss: 0.9171 | Train Acc: 0.6461 | Val Acc: 0.5381 | Val F1: 0.5057\n",
      "Checkpoint saved.\n"
     ]
    },
    {
     "name": "stderr",
     "output_type": "stream",
     "text": [
      "Training Epoch 38/75: 100%|██████████| 362/362 [01:37<00:00,  3.72it/s]\n"
     ]
    },
    {
     "name": "stdout",
     "output_type": "stream",
     "text": [
      "Epoch 38 | Train Loss: 0.8664 | Train Acc: 0.6693 | Val Acc: 0.5290 | Val F1: 0.4987\n"
     ]
    },
    {
     "name": "stderr",
     "output_type": "stream",
     "text": [
      "Training Epoch 39/75: 100%|██████████| 362/362 [01:36<00:00,  3.74it/s]\n"
     ]
    },
    {
     "name": "stdout",
     "output_type": "stream",
     "text": [
      "Epoch 39 | Train Loss: 0.8292 | Train Acc: 0.6838 | Val Acc: 0.5087 | Val F1: 0.4809\n"
     ]
    },
    {
     "name": "stderr",
     "output_type": "stream",
     "text": [
      "Training Epoch 40/75: 100%|██████████| 362/362 [01:36<00:00,  3.75it/s]\n"
     ]
    },
    {
     "name": "stdout",
     "output_type": "stream",
     "text": [
      "Epoch 40 | Train Loss: 0.8027 | Train Acc: 0.6914 | Val Acc: 0.5178 | Val F1: 0.4852\n"
     ]
    },
    {
     "name": "stderr",
     "output_type": "stream",
     "text": [
      "Training Epoch 41/75: 100%|██████████| 362/362 [01:37<00:00,  3.73it/s]\n"
     ]
    },
    {
     "name": "stdout",
     "output_type": "stream",
     "text": [
      "Epoch 41 | Train Loss: 0.7601 | Train Acc: 0.7087 | Val Acc: 0.5171 | Val F1: 0.4861\n"
     ]
    },
    {
     "name": "stderr",
     "output_type": "stream",
     "text": [
      "Training Epoch 42/75: 100%|██████████| 362/362 [01:37<00:00,  3.72it/s]\n"
     ]
    },
    {
     "name": "stdout",
     "output_type": "stream",
     "text": [
      "Epoch 42 | Train Loss: 0.7374 | Train Acc: 0.7168 | Val Acc: 0.5206 | Val F1: 0.4901\n"
     ]
    },
    {
     "name": "stderr",
     "output_type": "stream",
     "text": [
      "Training Epoch 43/75: 100%|██████████| 362/362 [01:36<00:00,  3.74it/s]\n"
     ]
    },
    {
     "name": "stdout",
     "output_type": "stream",
     "text": [
      "Epoch 43 | Train Loss: 0.7211 | Train Acc: 0.7213 | Val Acc: 0.5241 | Val F1: 0.4935\n"
     ]
    },
    {
     "name": "stderr",
     "output_type": "stream",
     "text": [
      "Training Epoch 44/75: 100%|██████████| 362/362 [01:36<00:00,  3.75it/s]\n"
     ]
    },
    {
     "name": "stdout",
     "output_type": "stream",
     "text": [
      "Epoch 44 | Train Loss: 0.6715 | Train Acc: 0.7409 | Val Acc: 0.4962 | Val F1: 0.4797\n"
     ]
    },
    {
     "name": "stderr",
     "output_type": "stream",
     "text": [
      "Training Epoch 45/75: 100%|██████████| 362/362 [01:36<00:00,  3.74it/s]\n"
     ]
    },
    {
     "name": "stdout",
     "output_type": "stream",
     "text": [
      "Epoch 45 | Train Loss: 0.6418 | Train Acc: 0.7510 | Val Acc: 0.5171 | Val F1: 0.4926\n"
     ]
    },
    {
     "name": "stderr",
     "output_type": "stream",
     "text": [
      "Training Epoch 46/75: 100%|██████████| 362/362 [01:37<00:00,  3.72it/s]\n"
     ]
    },
    {
     "name": "stdout",
     "output_type": "stream",
     "text": [
      "Epoch 46 | Train Loss: 0.6105 | Train Acc: 0.7661 | Val Acc: 0.5164 | Val F1: 0.4903\n"
     ]
    },
    {
     "name": "stderr",
     "output_type": "stream",
     "text": [
      "Training Epoch 47/75: 100%|██████████| 362/362 [01:36<00:00,  3.74it/s]\n"
     ]
    },
    {
     "name": "stdout",
     "output_type": "stream",
     "text": [
      "Epoch 47 | Train Loss: 0.5683 | Train Acc: 0.7800 | Val Acc: 0.5199 | Val F1: 0.5010\n"
     ]
    },
    {
     "name": "stderr",
     "output_type": "stream",
     "text": [
      "Training Epoch 48/75: 100%|██████████| 362/362 [01:36<00:00,  3.75it/s]\n"
     ]
    },
    {
     "name": "stdout",
     "output_type": "stream",
     "text": [
      "Epoch 48 | Train Loss: 0.5467 | Train Acc: 0.7867 | Val Acc: 0.5003 | Val F1: 0.4780\n"
     ]
    },
    {
     "name": "stderr",
     "output_type": "stream",
     "text": [
      "Training Epoch 49/75: 100%|██████████| 362/362 [01:36<00:00,  3.74it/s]\n"
     ]
    },
    {
     "name": "stdout",
     "output_type": "stream",
     "text": [
      "Epoch 49 | Train Loss: 0.5027 | Train Acc: 0.8056 | Val Acc: 0.5003 | Val F1: 0.4793\n"
     ]
    },
    {
     "name": "stderr",
     "output_type": "stream",
     "text": [
      "Training Epoch 50/75: 100%|██████████| 362/362 [01:37<00:00,  3.73it/s]\n"
     ]
    },
    {
     "name": "stdout",
     "output_type": "stream",
     "text": [
      "Epoch 50 | Train Loss: 0.4720 | Train Acc: 0.8174 | Val Acc: 0.5073 | Val F1: 0.4912\n"
     ]
    },
    {
     "name": "stderr",
     "output_type": "stream",
     "text": [
      "Training Epoch 51/75: 100%|██████████| 362/362 [01:36<00:00,  3.74it/s]\n"
     ]
    },
    {
     "name": "stdout",
     "output_type": "stream",
     "text": [
      "Epoch 51 | Train Loss: 0.4533 | Train Acc: 0.8272 | Val Acc: 0.5017 | Val F1: 0.4829\n"
     ]
    },
    {
     "name": "stderr",
     "output_type": "stream",
     "text": [
      "Training Epoch 52/75: 100%|██████████| 362/362 [01:36<00:00,  3.75it/s]\n"
     ]
    },
    {
     "name": "stdout",
     "output_type": "stream",
     "text": [
      "Epoch 52 | Train Loss: 0.3907 | Train Acc: 0.8502 | Val Acc: 0.5066 | Val F1: 0.4846\n"
     ]
    },
    {
     "name": "stderr",
     "output_type": "stream",
     "text": [
      "Training Epoch 53/75: 100%|██████████| 362/362 [01:36<00:00,  3.74it/s]\n"
     ]
    },
    {
     "name": "stdout",
     "output_type": "stream",
     "text": [
      "Epoch 53 | Train Loss: 0.3694 | Train Acc: 0.8590 | Val Acc: 0.4948 | Val F1: 0.4811\n"
     ]
    },
    {
     "name": "stderr",
     "output_type": "stream",
     "text": [
      "Training Epoch 54/75: 100%|██████████| 362/362 [01:37<00:00,  3.73it/s]\n"
     ]
    },
    {
     "name": "stdout",
     "output_type": "stream",
     "text": [
      "Epoch 54 | Train Loss: 0.3365 | Train Acc: 0.8713 | Val Acc: 0.4787 | Val F1: 0.4653\n"
     ]
    },
    {
     "name": "stderr",
     "output_type": "stream",
     "text": [
      "Training Epoch 55/75: 100%|██████████| 362/362 [01:36<00:00,  3.74it/s]\n"
     ]
    },
    {
     "name": "stdout",
     "output_type": "stream",
     "text": [
      "Epoch 55 | Train Loss: 0.3169 | Train Acc: 0.8784 | Val Acc: 0.4878 | Val F1: 0.4663\n"
     ]
    },
    {
     "name": "stderr",
     "output_type": "stream",
     "text": [
      "Training Epoch 56/75: 100%|██████████| 362/362 [01:36<00:00,  3.75it/s]\n"
     ]
    },
    {
     "name": "stdout",
     "output_type": "stream",
     "text": [
      "Epoch 56 | Train Loss: 0.3229 | Train Acc: 0.8780 | Val Acc: 0.4927 | Val F1: 0.4772\n"
     ]
    },
    {
     "name": "stderr",
     "output_type": "stream",
     "text": [
      "Training Epoch 57/75: 100%|██████████| 362/362 [01:36<00:00,  3.73it/s]\n"
     ]
    },
    {
     "name": "stdout",
     "output_type": "stream",
     "text": [
      "Epoch 57 | Train Loss: 0.2677 | Train Acc: 0.8971 | Val Acc: 0.4801 | Val F1: 0.4704\n"
     ]
    },
    {
     "name": "stderr",
     "output_type": "stream",
     "text": [
      "Training Epoch 58/75: 100%|██████████| 362/362 [01:37<00:00,  3.72it/s]\n"
     ]
    },
    {
     "name": "stdout",
     "output_type": "stream",
     "text": [
      "Epoch 58 | Train Loss: 0.2541 | Train Acc: 0.9044 | Val Acc: 0.4990 | Val F1: 0.4826\n"
     ]
    },
    {
     "name": "stderr",
     "output_type": "stream",
     "text": [
      "Training Epoch 59/75: 100%|██████████| 362/362 [01:36<00:00,  3.74it/s]\n"
     ]
    },
    {
     "name": "stdout",
     "output_type": "stream",
     "text": [
      "Epoch 59 | Train Loss: 0.2297 | Train Acc: 0.9183 | Val Acc: 0.4920 | Val F1: 0.4775\n"
     ]
    },
    {
     "name": "stderr",
     "output_type": "stream",
     "text": [
      "Training Epoch 60/75: 100%|██████████| 362/362 [01:36<00:00,  3.75it/s]\n"
     ]
    },
    {
     "name": "stdout",
     "output_type": "stream",
     "text": [
      "Epoch 60 | Train Loss: 0.2206 | Train Acc: 0.9184 | Val Acc: 0.4969 | Val F1: 0.4785\n"
     ]
    },
    {
     "name": "stderr",
     "output_type": "stream",
     "text": [
      "Training Epoch 61/75: 100%|██████████| 362/362 [01:36<00:00,  3.74it/s]\n"
     ]
    },
    {
     "name": "stdout",
     "output_type": "stream",
     "text": [
      "Epoch 61 | Train Loss: 0.2108 | Train Acc: 0.9241 | Val Acc: 0.4934 | Val F1: 0.4757\n"
     ]
    },
    {
     "name": "stderr",
     "output_type": "stream",
     "text": [
      "Training Epoch 62/75: 100%|██████████| 362/362 [01:37<00:00,  3.73it/s]\n"
     ]
    },
    {
     "name": "stdout",
     "output_type": "stream",
     "text": [
      "Epoch 62 | Train Loss: 0.1733 | Train Acc: 0.9391 | Val Acc: 0.4990 | Val F1: 0.4832\n"
     ]
    },
    {
     "name": "stderr",
     "output_type": "stream",
     "text": [
      "Training Epoch 63/75: 100%|██████████| 362/362 [01:36<00:00,  3.74it/s]\n"
     ]
    },
    {
     "name": "stdout",
     "output_type": "stream",
     "text": [
      "Epoch 63 | Train Loss: 0.1709 | Train Acc: 0.9399 | Val Acc: 0.4843 | Val F1: 0.4692\n"
     ]
    },
    {
     "name": "stderr",
     "output_type": "stream",
     "text": [
      "Training Epoch 64/75: 100%|██████████| 362/362 [01:36<00:00,  3.75it/s]\n"
     ]
    },
    {
     "name": "stdout",
     "output_type": "stream",
     "text": [
      "Epoch 64 | Train Loss: 0.1546 | Train Acc: 0.9455 | Val Acc: 0.5017 | Val F1: 0.4871\n"
     ]
    },
    {
     "name": "stderr",
     "output_type": "stream",
     "text": [
      "Training Epoch 65/75: 100%|██████████| 362/362 [01:37<00:00,  3.73it/s]\n"
     ]
    },
    {
     "name": "stdout",
     "output_type": "stream",
     "text": [
      "Epoch 65 | Train Loss: 0.1694 | Train Acc: 0.9390 | Val Acc: 0.4801 | Val F1: 0.4626\n"
     ]
    },
    {
     "name": "stderr",
     "output_type": "stream",
     "text": [
      "Training Epoch 66/75: 100%|██████████| 362/362 [01:37<00:00,  3.70it/s]\n"
     ]
    },
    {
     "name": "stdout",
     "output_type": "stream",
     "text": [
      "Epoch 66 | Train Loss: 0.1388 | Train Acc: 0.9512 | Val Acc: 0.4962 | Val F1: 0.4860\n"
     ]
    },
    {
     "name": "stderr",
     "output_type": "stream",
     "text": [
      "Training Epoch 67/75: 100%|██████████| 362/362 [01:37<00:00,  3.73it/s]\n"
     ]
    },
    {
     "name": "stdout",
     "output_type": "stream",
     "text": [
      "Epoch 67 | Train Loss: 0.1203 | Train Acc: 0.9572 | Val Acc: 0.4955 | Val F1: 0.4841\n"
     ]
    },
    {
     "name": "stderr",
     "output_type": "stream",
     "text": [
      "Training Epoch 68/75: 100%|██████████| 362/362 [01:36<00:00,  3.75it/s]\n"
     ]
    },
    {
     "name": "stdout",
     "output_type": "stream",
     "text": [
      "Epoch 68 | Train Loss: 0.1265 | Train Acc: 0.9609 | Val Acc: 0.4955 | Val F1: 0.4800\n"
     ]
    },
    {
     "name": "stderr",
     "output_type": "stream",
     "text": [
      "Training Epoch 69/75: 100%|██████████| 362/362 [01:36<00:00,  3.73it/s]\n"
     ]
    },
    {
     "name": "stdout",
     "output_type": "stream",
     "text": [
      "Epoch 69 | Train Loss: 0.1325 | Train Acc: 0.9543 | Val Acc: 0.4906 | Val F1: 0.4783\n"
     ]
    },
    {
     "name": "stderr",
     "output_type": "stream",
     "text": [
      "Training Epoch 70/75: 100%|██████████| 362/362 [01:37<00:00,  3.72it/s]\n"
     ]
    },
    {
     "name": "stdout",
     "output_type": "stream",
     "text": [
      "Epoch 70 | Train Loss: 0.0800 | Train Acc: 0.9727 | Val Acc: 0.5003 | Val F1: 0.4844\n"
     ]
    },
    {
     "name": "stderr",
     "output_type": "stream",
     "text": [
      "Training Epoch 71/75: 100%|██████████| 362/362 [01:37<00:00,  3.73it/s]\n"
     ]
    },
    {
     "name": "stdout",
     "output_type": "stream",
     "text": [
      "Epoch 71 | Train Loss: 0.1309 | Train Acc: 0.9557 | Val Acc: 0.4976 | Val F1: 0.4875\n"
     ]
    },
    {
     "name": "stderr",
     "output_type": "stream",
     "text": [
      "Training Epoch 72/75: 100%|██████████| 362/362 [01:36<00:00,  3.75it/s]\n"
     ]
    },
    {
     "name": "stdout",
     "output_type": "stream",
     "text": [
      "Epoch 72 | Train Loss: 0.1009 | Train Acc: 0.9642 | Val Acc: 0.4913 | Val F1: 0.4795\n"
     ]
    },
    {
     "name": "stderr",
     "output_type": "stream",
     "text": [
      "Training Epoch 73/75: 100%|██████████| 362/362 [01:36<00:00,  3.74it/s]\n"
     ]
    },
    {
     "name": "stdout",
     "output_type": "stream",
     "text": [
      "Epoch 73 | Train Loss: 0.1020 | Train Acc: 0.9663 | Val Acc: 0.5024 | Val F1: 0.4862\n"
     ]
    },
    {
     "name": "stderr",
     "output_type": "stream",
     "text": [
      "Training Epoch 74/75: 100%|██████████| 362/362 [01:37<00:00,  3.73it/s]\n"
     ]
    },
    {
     "name": "stdout",
     "output_type": "stream",
     "text": [
      "Epoch 74 | Train Loss: 0.1067 | Train Acc: 0.9644 | Val Acc: 0.4829 | Val F1: 0.4717\n"
     ]
    },
    {
     "name": "stderr",
     "output_type": "stream",
     "text": [
      "Training Epoch 75/75: 100%|██████████| 362/362 [01:36<00:00,  3.74it/s]\n"
     ]
    },
    {
     "name": "stdout",
     "output_type": "stream",
     "text": [
      "Epoch 75 | Train Loss: 0.0699 | Train Acc: 0.9779 | Val Acc: 0.4969 | Val F1: 0.4904\n"
     ]
    },
    {
     "data": {
      "image/png": "[encoded data removed]",
      "text/plain": [
       "<Figure size 640x480 with 1 Axes>"
      ]
     },
     "metadata": {},
     "output_type": "display_data"
    },
    {
     "name": "stderr",
     "output_type": "stream",
     "text": [
      "/tmp/ipykernel_23/3177790480.py:217: FutureWarning: You are using `torch.load` with `weights_only=False` (the current default value), which uses the default pickle module implicitly. It is possible to construct malicious pickle data which will execute arbitrary code during unpickling (See https://github.com/pytorch/pytorch/blob/main/SECURITY.md#untrusted-models for more details). In a future release, the default value for `weights_only` will be flipped to `True`. This limits the functions that could be executed during unpickling. Arbitrary objects will no longer be allowed to be loaded via this mode unless they are explicitly allowlisted by the user via `torch.serialization.add_safe_globals`. We recommend you start setting `weights_only=True` for any use case where you don't have full control of the loaded file. Please open an issue on GitHub for any issues related to this experimental feature.\n",
      "  model.load_state_dict(torch.load(Config.checkpoint_path)['model_state_dict'])\n"
     ]
    },
    {
     "name": "stdout",
     "output_type": "stream",
     "text": [
      "Test Accuracy: 0.5351\n",
      "Test Precision (macro): 0.5138\n",
      "Test Recall (macro): 0.5198\n",
      "Test F1 Score (macro): 0.5100\n"
     ]
    }
   ],
   "source": [
    "import time\n",
    "import random\n",
    "import numpy as np\n",
    "import pandas as pd\n",
    "import torch\n",
    "import torch.nn as nn\n",
    "import torch.nn.functional as F\n",
    "from torch.utils.data import Dataset, DataLoader\n",
    "from sklearn.metrics import accuracy_score, f1_score, precision_score, recall_score\n",
    "from torch.optim import Adam\n",
    "from tqdm import tqdm\n",
    "import matplotlib.pyplot as plt\n",
    "import os\n",
    "from gensim.models import FastText\n",
    "import gensim.downloader as api\n",
    "\n",
    "\n",
    "# Hyperparameters and Configuration\n",
    "class Config:\n",
    "    batch_size = 32\n",
    "    hidden_size = 256\n",
    "    embedding_dim = 300  # FastText embedding dimension\n",
    "    num_epochs = 75\n",
    "    lr = 1e-3\n",
    "    hidden_dropout_prob = 0.3\n",
    "    seed = 11711\n",
    "    num_labels = 8  # Number of classes\n",
    "    num_layers = 4  # Number of LSTM layers\n",
    "    checkpoint_path = \"/kaggle/working/best_lstm_model.pt\"  # Path to save and load checkpoint\n",
    "\n",
    "# Fix random seed for reproducibility\n",
    "def seed_everything(seed=11711):\n",
    "    random.seed(seed)\n",
    "    np.random.seed(seed)\n",
    "    torch.manual_seed(seed)\n",
    "    torch.cuda.manual_seed(seed)\n",
    "    torch.backends.cudnn.deterministic = True\n",
    "\n",
    "seed_everything(Config.seed)\n",
    "\n",
    "# Load the pre-trained FastText model\n",
    "fasttext_model = api.load(\"fasttext-wiki-news-subwords-300\")  # This downloads a 300-dimensional FastText embedding\n",
    "\n",
    "# Build word index and embedding matrix\n",
    "vocab_size = len(fasttext_model.key_to_index) + 1\n",
    "embedding_dim = fasttext_model.vector_size\n",
    "embedding_matrix = np.zeros((vocab_size, embedding_dim))\n",
    "word_index = {}\n",
    "for i, word in enumerate(fasttext_model.index_to_key):\n",
    "    word_index[word] = i + 1\n",
    "    embedding_matrix[i + 1] = fasttext_model[word]\n",
    "\n",
    "# Load data\n",
    "def load_data(filename):\n",
    "    df = pd.read_csv(filename)\n",
    "    data = [(row['Summary'], row['Genres']) for _, row in df.iterrows()]\n",
    "    return data\n",
    "\n",
    "# TextDataset using FastText word indices\n",
    "class TextDataset(Dataset):\n",
    "    def __init__(self, data, word_index, label_map, max_length=512):\n",
    "        self.data = data\n",
    "        self.word_index = word_index\n",
    "        self.label_map = label_map\n",
    "        self.max_length = max_length\n",
    "\n",
    "    def __len__(self):\n",
    "        return len(self.data)\n",
    "\n",
    "    def __getitem__(self, idx):\n",
    "        text, label = self.data[idx]\n",
    "        # Convert text to word indices\n",
    "        token_ids = [self.word_index.get(word, 0) for word in text.split()]\n",
    "        token_ids = token_ids[:self.max_length]  # Truncate if necessary\n",
    "        token_ids += [0] * (self.max_length - len(token_ids))  # Pad to max length\n",
    "        return torch.tensor(token_ids, dtype=torch.long), torch.tensor(self.label_map[label], dtype=torch.long)\n",
    "\n",
    "    def collate_fn(self, batch):\n",
    "        token_ids = torch.stack([item[0] for item in batch])\n",
    "        labels = torch.tensor([item[1] for item in batch], dtype=torch.long)\n",
    "        return token_ids, labels\n",
    "\n",
    "# Define the LSTM model with FastText embeddings\n",
    "class LSTMSentClassifier(nn.Module):\n",
    "    def __init__(self, vocab_size, embedding_matrix, config):\n",
    "        \"\"\"\n",
    "        Initializes the LSTMSentClassifier model.\n",
    "\n",
    "        Args:\n",
    "            vocab_size (int): Size of the vocabulary.\n",
    "            embedding_matrix (numpy.ndarray): Pre-trained embedding matrix.\n",
    "            config (object): Configuration object containing model hyperparameters.\n",
    "\n",
    "        Attributes:\n",
    "            embedding (nn.Embedding): Embedding layer initialized with pre-trained embeddings.\n",
    "            lstm (nn.LSTM): Bidirectional LSTM layer.\n",
    "            dropout (nn.Dropout): Dropout layer for regularization.\n",
    "            fc (nn.Linear): Fully connected layer for classification.\n",
    "            softmax (nn.LogSoftmax): LogSoftmax layer for output probabilities.\n",
    "\n",
    "        Note:\n",
    "            The hidden size is multiplied by 2 in the fully connected layer because the LSTM is bidirectional, \n",
    "            which concatenates the outputs from both directions.\n",
    "        \"\"\"\n",
    "        super(LSTMSentClassifier, self).__init__()\n",
    "        self.embedding = nn.Embedding.from_pretrained(torch.tensor(embedding_matrix, dtype=torch.float32), freeze=True)\n",
    "        self.lstm = nn.LSTM(\n",
    "            input_size=embedding_matrix.shape[1], \n",
    "            hidden_size=config.hidden_size, \n",
    "            num_layers=config.num_layers, \n",
    "            batch_first=True,\n",
    "            bidirectional=True\n",
    "        )\n",
    "        self.dropout = nn.Dropout(config.hidden_dropout_prob)\n",
    "        self.fc = nn.Linear(config.hidden_size * 2, config.num_labels)\n",
    "        self.softmax = nn.LogSoftmax(dim=-1)\n",
    "\n",
    "    def forward(self, x):\n",
    "        embedded = self.embedding(x)\n",
    "        _, (hidden, _) = self.lstm(embedded)\n",
    "        hidden = torch.cat((hidden[-2], hidden[-1]), dim=1)\n",
    "        hidden = self.dropout(hidden)  # Use the final layer's hidden state\n",
    "        return self.softmax(self.fc(hidden))\n",
    "\n",
    "# Evaluation function to calculate accuracy and other metrics\n",
    "def evaluate_model(model, dataloader, device):\n",
    "    model.eval()\n",
    "    all_preds, all_labels = [], []\n",
    "    with torch.no_grad():\n",
    "        for token_ids, labels in dataloader:\n",
    "            token_ids, labels = token_ids.to(device), labels.to(device)\n",
    "            output = model(token_ids)\n",
    "            preds = torch.argmax(output, dim=1)\n",
    "            all_preds.extend(preds.cpu().numpy())\n",
    "            all_labels.extend(labels.cpu().numpy())\n",
    "    \n",
    "    accuracy = accuracy_score(all_labels, all_preds)\n",
    "    precision = precision_score(all_labels, all_preds, average=\"macro\")\n",
    "    recall = recall_score(all_labels, all_preds, average=\"macro\")\n",
    "    f1 = f1_score(all_labels, all_preds, average=\"macro\")\n",
    "    return accuracy, precision, recall, f1\n",
    "\n",
    "# Training function with checkpoint saving\n",
    "def train_model(model, train_loader, val_loader, config, device):\n",
    "    \"\"\"\n",
    "    Trains the given model using the provided training and validation data loaders.\n",
    "\n",
    "    Args:\n",
    "        model (torch.nn.Module): The model to be trained.\n",
    "        train_loader (torch.utils.data.DataLoader): DataLoader for the training dataset.\n",
    "        val_loader (torch.utils.data.DataLoader): DataLoader for the validation dataset.\n",
    "        config (Namespace): Configuration object containing training parameters such as learning rate, number of epochs, and checkpoint path.\n",
    "        device (torch.device): The device (CPU or GPU) on which the model will be trained.\n",
    "\n",
    "    Returns:\n",
    "        None\n",
    "\n",
    "    The function performs the following steps:\n",
    "    1. Initializes the optimizer with the model parameters and learning rate from the config.\n",
    "    2. Checks if a checkpoint exists and loads the model and optimizer states, as well as the starting epoch and best accuracy.\n",
    "    3. Iterates over the specified number of epochs, performing the following for each epoch:\n",
    "        - Sets the model to training mode.\n",
    "        - Iterates over the training data, performing forward and backward passes, and updating the model parameters.\n",
    "        - Calculates and records the average training loss and accuracy.\n",
    "        - Evaluates the model on the validation dataset and records the validation accuracy and F1 score.\n",
    "        - Saves a checkpoint if the validation accuracy improves.\n",
    "    4. Plots the training loss and validation accuracy over epochs.\n",
    "\n",
    "    Note:\n",
    "        - The function assumes that the model's forward method returns log probabilities for classification, as it uses `F.nll_loss` for the loss calculation.\n",
    "        - The function uses `torch.argmax` to get the predicted class labels from the model's output.\n",
    "    \"\"\"\n",
    "    optimizer = Adam(model.parameters(), lr=config.lr)\n",
    "    start_epoch = 0\n",
    "    best_accuracy = 0\n",
    "\n",
    "    # Load checkpoint if it exists\n",
    "    if os.path.exists(config.checkpoint_path):\n",
    "        checkpoint = torch.load(config.checkpoint_path)\n",
    "        model.load_state_dict(checkpoint['model_state_dict'])\n",
    "        optimizer.load_state_dict(checkpoint['optimizer_state_dict'])\n",
    "        start_epoch = checkpoint['epoch'] + 1\n",
    "        best_accuracy = checkpoint.get('best_accuracy', 0)\n",
    "        print(f\"Checkpoint loaded. Resuming training from epoch {start_epoch} with best accuracy {best_accuracy:.4f}\")\n",
    "    else:\n",
    "        print(\"No checkpoint found. Starting training from scratch.\")\n",
    "\n",
    "    train_losses, train_accuracies, val_accuracies = [], [], []\n",
    "\n",
    "    for epoch in range(start_epoch, config.num_epochs):\n",
    "        model.train()\n",
    "        total_loss = 0\n",
    "        correct_preds = 0\n",
    "        total_samples = 0\n",
    "\n",
    "        for token_ids, labels in tqdm(train_loader, desc=f\"Training Epoch {epoch+1}/{config.num_epochs}\"):\n",
    "            token_ids, labels = token_ids.to(device), labels.to(device)\n",
    "            optimizer.zero_grad()\n",
    "            output = model(token_ids)\n",
    "            loss = F.nll_loss(output, labels)\n",
    "            loss.backward()\n",
    "            optimizer.step()\n",
    "\n",
    "            total_loss += loss.item()\n",
    "            preds = torch.argmax(output, dim=1)\n",
    "            correct_preds += (preds == labels).sum().item()\n",
    "            total_samples += labels.size(0)\n",
    "\n",
    "        avg_train_loss = total_loss / len(train_loader)\n",
    "        train_accuracy = correct_preds / total_samples\n",
    "        train_losses.append(avg_train_loss)\n",
    "        train_accuracies.append(train_accuracy)\n",
    "\n",
    "        val_accuracy, _, _, val_f1 = evaluate_model(model, val_loader, device)\n",
    "        val_accuracies.append(val_accuracy)\n",
    "        print(f\"Epoch {epoch+1} | Train Loss: {avg_train_loss:.4f} | Train Acc: {train_accuracy:.4f} | Val Acc: {val_accuracy:.4f} | Val F1: {val_f1:.4f}\")\n",
    "\n",
    "        if val_accuracy > best_accuracy:\n",
    "            best_accuracy = val_accuracy\n",
    "            torch.save({\n",
    "                'epoch': epoch,\n",
    "                'model_state_dict': model.state_dict(),\n",
    "                'optimizer_state_dict': optimizer.state_dict(),\n",
    "                'best_accuracy': best_accuracy,\n",
    "            }, config.checkpoint_path)\n",
    "            print(\"Checkpoint saved.\")\n",
    "\n",
    "    plt.plot(train_losses, label=\"Train Loss\")\n",
    "    plt.plot(val_accuracies, label=\"Val Accuracy\")\n",
    "    plt.legend()\n",
    "    plt.show()\n",
    "\n",
    "# Data processing\n",
    "label_map = {\n",
    "    \"Children's literature\": 0,\n",
    "    \"Crime Fiction\": 1,\n",
    "    \"Fantasy\": 2,\n",
    "    \"Mystery\": 3,\n",
    "    \"Non-fiction\": 4,\n",
    "    \"Science Fiction\": 5,\n",
    "    \"Suspense\": 6,\n",
    "    \"Young adult literature\": 7\n",
    "}\n",
    "\n",
    "train_data = load_data('/kaggle/input/book-summaries/book_summaries_train.csv')\n",
    "val_data = load_data('/kaggle/input/book-summaries/book_summaries_valid.csv')\n",
    "test_data = load_data('/kaggle/input/book-summaries/book_summaries_test.csv')\n",
    "\n",
    "train_dataset = TextDataset(train_data, word_index, label_map)\n",
    "val_dataset = TextDataset(val_data, word_index, label_map)\n",
    "test_dataset = TextDataset(test_data, word_index, label_map)\n",
    "\n",
    "train_loader = DataLoader(train_dataset, batch_size=Config.batch_size, shuffle=True, collate_fn=train_dataset.collate_fn)\n",
    "val_loader = DataLoader(val_dataset, batch_size=Config.batch_size, shuffle=False, collate_fn=val_dataset.collate_fn)\n",
    "test_loader = DataLoader(test_dataset, batch_size=Config.batch_size, shuffle=False, collate_fn=test_dataset.collate_fn)\n",
    "\n",
    "# Model setup and training\n",
    "device = torch.device(\"cuda\" if torch.cuda.is_available() else \"cpu\")\n",
    "model = LSTMSentClassifier(vocab_size, embedding_matrix, Config).to(device)\n",
    "\n",
    "train_model(model, train_loader, val_loader, Config, device)\n",
    "\n",
    "# Load the best model and evaluate on the test set\n",
    "model.load_state_dict(torch.load(Config.checkpoint_path)['model_state_dict'])\n",
    "test_accuracy, test_precision, test_recall, test_f1 = evaluate_model(model, test_loader, device)\n",
    "\n",
    "# Log metrics after training\n",
    "print(f\"Test Accuracy: {test_accuracy:.4f}\")\n",
    "print(f\"Test Precision (macro): {test_precision:.4f}\")\n",
    "print(f\"Test Recall (macro): {test_recall:.4f}\")\n",
    "print(f\"Test F1 Score (macro): {test_f1:.4f}\")\n"
   ]
  },
  {
   "cell_type": "code",
   "execution_count": 2,
   "id": "9d072c91",
   "metadata": {
    "execution": {
     "iopub.execute_input": "2024-11-30T19:22:10.872658Z",
     "iopub.status.busy": "2024-11-30T19:22:10.872027Z",
     "iopub.status.idle": "2024-11-30T19:25:17.226381Z",
     "shell.execute_reply": "2024-11-30T19:25:17.225421Z"
    },
    "papermill": {
     "duration": 192.327423,
     "end_time": "2024-11-30T19:25:17.228200",
     "exception": false,
     "start_time": "2024-11-30T19:22:04.900777",
     "status": "completed"
    },
    "tags": []
   },
   "outputs": [
    {
     "name": "stderr",
     "output_type": "stream",
     "text": [
      "/tmp/ipykernel_23/1864870510.py:106: FutureWarning: You are using `torch.load` with `weights_only=False` (the current default value), which uses the default pickle module implicitly. It is possible to construct malicious pickle data which will execute arbitrary code during unpickling (See https://github.com/pytorch/pytorch/blob/main/SECURITY.md#untrusted-models for more details). In a future release, the default value for `weights_only` will be flipped to `True`. This limits the functions that could be executed during unpickling. Arbitrary objects will no longer be allowed to be loaded via this mode unless they are explicitly allowlisted by the user via `torch.serialization.add_safe_globals`. We recommend you start setting `weights_only=True` for any use case where you don't have full control of the loaded file. Please open an issue on GitHub for any issues related to this experimental feature.\n",
      "  model.load_state_dict(torch.load(Config.checkpoint_path, map_location=device)['model_state_dict'])\n"
     ]
    },
    {
     "name": "stdout",
     "output_type": "stream",
     "text": [
      "Test Accuracy: 0.4715\n",
      "Test Precision: 0.4587\n",
      "Test Recall: 0.4558\n",
      "Test F1 Score: 0.4457\n"
     ]
    }
   ],
   "source": [
    "import torch\n",
    "import torch.nn as nn\n",
    "import numpy as np\n",
    "from torch.utils.data import Dataset, DataLoader\n",
    "from sklearn.metrics import accuracy_score, precision_score, recall_score, f1_score\n",
    "import pandas as pd\n",
    "import gensim.downloader as api\n",
    "\n",
    "# Configurations\n",
    "class Config:\n",
    "    batch_size = 32\n",
    "    max_length = 512\n",
    "    hidden_size = 256\n",
    "    num_labels = 8\n",
    "    checkpoint_path = \"/kaggle/input/book-lstm/pytorch/default/1/best_lstm_model (3).pt\"  # Path to the model checkpoint\n",
    "\n",
    "# Load FastText pre-trained embeddings\n",
    "fasttext_model = api.load(\"fasttext-wiki-news-subwords-300\")\n",
    "embedding_dim = fasttext_model.vector_size\n",
    "vocab_size = len(fasttext_model.key_to_index) + 1\n",
    "embedding_matrix = np.zeros((vocab_size, embedding_dim))\n",
    "word_index = {word: idx + 1 for idx, word in enumerate(fasttext_model.index_to_key)}\n",
    "for word, idx in word_index.items():\n",
    "    embedding_matrix[idx] = fasttext_model[word]\n",
    "\n",
    "# Dataset class\n",
    "class TextDataset(Dataset):\n",
    "    def __init__(self, data, word_index, label_map, max_length=512):\n",
    "        self.data = data\n",
    "        self.word_index = word_index\n",
    "        self.label_map = label_map\n",
    "        self.max_length = max_length\n",
    "\n",
    "    def __len__(self):\n",
    "        return len(self.data)\n",
    "\n",
    "    def __getitem__(self, idx):\n",
    "        text, label = self.data[idx]\n",
    "        token_ids = [self.word_index.get(word, 0) for word in text.split()]\n",
    "        token_ids = token_ids[:self.max_length]\n",
    "        token_ids += [0] * (self.max_length - len(token_ids))\n",
    "        return torch.tensor(token_ids, dtype=torch.long), torch.tensor(self.label_map[label], dtype=torch.long)\n",
    "\n",
    "    def collate_fn(self, batch):\n",
    "        token_ids = torch.stack([item[0] for item in batch])\n",
    "        labels = torch.tensor([item[1] for item in batch], dtype=torch.long)\n",
    "        return token_ids, labels\n",
    "\n",
    "# Model class\n",
    "class LSTMSentClassifier(nn.Module):\n",
    "    def __init__(self, vocab_size, embedding_matrix, config):\n",
    "        super(LSTMSentClassifier, self).__init__()\n",
    "        self.embedding = nn.Embedding.from_pretrained(torch.tensor(embedding_matrix, dtype=torch.float32), freeze=True)\n",
    "        self.lstm = nn.LSTM(embedding_matrix.shape[1], config.hidden_size, batch_first=True)\n",
    "        self.fc = nn.Linear(config.hidden_size, config.num_labels)\n",
    "\n",
    "    def forward(self, x):\n",
    "        embedded = self.embedding(x)\n",
    "        _, (hidden, _) = self.lstm(embedded)\n",
    "        return self.fc(hidden[-1])\n",
    "\n",
    "# Evaluation function\n",
    "def evaluate_model(model, dataloader, device):\n",
    "    model.eval()\n",
    "    all_preds, all_labels = [], []\n",
    "    with torch.no_grad():\n",
    "        for token_ids, labels in dataloader:\n",
    "            token_ids, labels = token_ids.to(device), labels.to(device)\n",
    "            output = model(token_ids)\n",
    "            preds = torch.argmax(output, dim=1)\n",
    "            all_preds.extend(preds.cpu().numpy())\n",
    "            all_labels.extend(labels.cpu().numpy())\n",
    "    accuracy = accuracy_score(all_labels, all_preds)\n",
    "    precision = precision_score(all_labels, all_preds, average=\"macro\", zero_division=0)\n",
    "    recall = recall_score(all_labels, all_preds, average=\"macro\", zero_division=0)\n",
    "    f1 = f1_score(all_labels, all_preds, average=\"macro\")\n",
    "    return accuracy, precision, recall, f1\n",
    "\n",
    "# Load data\n",
    "def load_data(filename):\n",
    "    df = pd.read_csv(filename)\n",
    "    return [(row['Summary'], row['Genres']) for _, row in df.iterrows()]\n",
    "\n",
    "# Main evaluation\n",
    "if __name__ == \"__main__\":\n",
    "    # Label mapping\n",
    "    label_map = {\n",
    "        \"Children's literature\": 0,\n",
    "        \"Crime Fiction\": 1,\n",
    "        \"Fantasy\": 2,\n",
    "        \"Mystery\": 3,\n",
    "        \"Non-fiction\": 4,\n",
    "        \"Science Fiction\": 5,\n",
    "        \"Suspense\": 6,\n",
    "        \"Young adult literature\": 7\n",
    "    }\n",
    "\n",
    "    # Load test data\n",
    "    test_data = load_data('/kaggle/input/book-summaries/book_summaries_test.csv')\n",
    "    test_dataset = TextDataset(test_data, word_index, label_map, Config.max_length)\n",
    "    test_loader = DataLoader(test_dataset, batch_size=Config.batch_size, shuffle=False, collate_fn=test_dataset.collate_fn)\n",
    "\n",
    "    # Load model\n",
    "    device = torch.device(\"cuda\" if torch.cuda.is_available() else \"cpu\")\n",
    "    model = LSTMSentClassifier(vocab_size, embedding_matrix, Config)\n",
    "    model.load_state_dict(torch.load(Config.checkpoint_path, map_location=device)['model_state_dict'])\n",
    "    model.to(device)\n",
    "\n",
    "    # Evaluate\n",
    "    accuracy, precision, recall, f1 = evaluate_model(model, test_loader, device)\n",
    "    print(f\"Test Accuracy: {accuracy:.4f}\")\n",
    "    print(f\"Test Precision: {precision:.4f}\")\n",
    "    print(f\"Test Recall: {recall:.4f}\")\n",
    "    print(f\"Test F1 Score: {f1:.4f}\")\n"
   ]
  }
 ],
 "metadata": {
  "kaggle": {
   "accelerator": "gpu",
   "dataSources": [
    {
     "datasetId": 715814,
     "sourceId": 1246668,
     "sourceType": "datasetVersion"
    },
    {
     "datasetId": 6070091,
     "sourceId": 9884968,
     "sourceType": "datasetVersion"
    },
    {
     "isSourceIdPinned": true,
     "modelId": 178446,
     "modelInstanceId": 155995,
     "sourceId": 183014,
     "sourceType": "modelInstanceVersion"
    }
   ],
   "dockerImageVersionId": 30787,
   "isGpuEnabled": true,
   "isInternetEnabled": true,
   "language": "python",
   "sourceType": "notebook"
  },
  "kernelspec": {
   "display_name": "Python 3",
   "language": "python",
   "name": "python3"
  },
  "language_info": {
   "codemirror_mode": {
    "name": "ipython",
    "version": 3
   },
   "file_extension": ".py",
   "mimetype": "text/x-python",
   "name": "python",
   "nbconvert_exporter": "python",
   "pygments_lexer": "ipython3",
   "version": "3.10.14"
  },
  "papermill": {
   "default_parameters": {},
   "duration": 8243.526739,
   "end_time": "2024-11-30T19:25:26.199485",
   "environment_variables": {},
   "exception": null,
   "input_path": "__notebook__.ipynb",
   "output_path": "__notebook__.ipynb",
   "parameters": {},
   "start_time": "2024-11-30T17:08:02.672746",
   "version": "2.6.0"
  }
 },
 "nbformat": 4,
 "nbformat_minor": 5
}
