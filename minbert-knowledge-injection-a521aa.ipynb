{
 "cells": [
  {
   "cell_type": "markdown",
   "id": "fcf38966",
   "metadata": {
    "papermill": {
     "duration": 0.004152,
     "end_time": "2024-11-17T17:07:08.955404",
     "exception": false,
     "start_time": "2024-11-17T17:07:08.951252",
     "status": "completed"
    },
    "tags": []
   },
   "source": [
    "# Cài đặt"
   ]
  },
  {
   "cell_type": "code",
   "execution_count": 1,
   "id": "264ce405",
   "metadata": {
    "_cell_guid": "b1076dfc-b9ad-4769-8c92-a6c4dae69d19",
    "_uuid": "8f2839f25d086af736a60e9eeb907d3b93b6e0e5",
    "execution": {
     "iopub.execute_input": "2024-11-17T17:07:08.964933Z",
     "iopub.status.busy": "2024-11-17T17:07:08.964105Z",
     "iopub.status.idle": "2024-11-17T17:07:21.037136Z",
     "shell.execute_reply": "2024-11-17T17:07:21.035996Z"
    },
    "papermill": {
     "duration": 12.080515,
     "end_time": "2024-11-17T17:07:21.039868",
     "exception": false,
     "start_time": "2024-11-17T17:07:08.959353",
     "status": "completed"
    },
    "tags": []
   },
   "outputs": [
    {
     "name": "stdout",
     "output_type": "stream",
     "text": [
      "Cloning into 'INT3406-GROUP5-minBERT_for_document_classification'...\r\n",
      "remote: Enumerating objects: 175, done.\u001b[K\r\n",
      "remote: Counting objects: 100% (90/90), done.\u001b[K\r\n",
      "remote: Compressing objects: 100% (66/66), done.\u001b[K\r\n",
      "remote: Total 175 (delta 45), reused 63 (delta 24), pack-reused 85 (from 1)\u001b[K\r\n",
      "Receiving objects: 100% (175/175), 100.53 MiB | 12.25 MiB/s, done.\r\n",
      "Resolving deltas: 100% (76/76), done.\r\n"
     ]
    }
   ],
   "source": [
    "# Clone the repository\n",
    "!git clone https://github.com/tunglam994/INT3406-GROUP5-minBERT_for_document_classification.git\n"
   ]
  },
  {
   "cell_type": "code",
   "execution_count": 2,
   "id": "c79eacce",
   "metadata": {
    "execution": {
     "iopub.execute_input": "2024-11-17T17:07:21.054786Z",
     "iopub.status.busy": "2024-11-17T17:07:21.054383Z",
     "iopub.status.idle": "2024-11-17T17:07:21.062004Z",
     "shell.execute_reply": "2024-11-17T17:07:21.061085Z"
    },
    "papermill": {
     "duration": 0.017657,
     "end_time": "2024-11-17T17:07:21.064293",
     "exception": false,
     "start_time": "2024-11-17T17:07:21.046636",
     "status": "completed"
    },
    "tags": []
   },
   "outputs": [
    {
     "name": "stdout",
     "output_type": "stream",
     "text": [
      "/kaggle/working/INT3406-GROUP5-minBERT_for_document_classification\n"
     ]
    }
   ],
   "source": [
    "%cd /kaggle/working/INT3406-GROUP5-minBERT_for_document_classification"
   ]
  },
  {
   "cell_type": "code",
   "execution_count": 3,
   "id": "62f64ccc",
   "metadata": {
    "execution": {
     "iopub.execute_input": "2024-11-17T17:07:21.078280Z",
     "iopub.status.busy": "2024-11-17T17:07:21.077940Z",
     "iopub.status.idle": "2024-11-17T17:07:22.445628Z",
     "shell.execute_reply": "2024-11-17T17:07:22.444675Z"
    },
    "papermill": {
     "duration": 1.37728,
     "end_time": "2024-11-17T17:07:22.448005",
     "exception": false,
     "start_time": "2024-11-17T17:07:21.070725",
     "status": "completed"
    },
    "tags": []
   },
   "outputs": [
    {
     "name": "stdout",
     "output_type": "stream",
     "text": [
      "Branch 'knowledge-injection' set up to track remote branch 'knowledge-injection' from 'origin'.\r\n",
      "Switched to a new branch 'knowledge-injection'\r\n"
     ]
    }
   ],
   "source": [
    "# Checkout vào branch cần chạy\n",
    "!git checkout knowledge-injection"
   ]
  },
  {
   "cell_type": "code",
   "execution_count": 4,
   "id": "e4217b18",
   "metadata": {
    "execution": {
     "iopub.execute_input": "2024-11-17T17:07:22.462700Z",
     "iopub.status.busy": "2024-11-17T17:07:22.462357Z",
     "iopub.status.idle": "2024-11-17T17:07:24.464726Z",
     "shell.execute_reply": "2024-11-17T17:07:24.463688Z"
    },
    "papermill": {
     "duration": 2.012597,
     "end_time": "2024-11-17T17:07:24.466896",
     "exception": false,
     "start_time": "2024-11-17T17:07:22.454299",
     "status": "completed"
    },
    "tags": []
   },
   "outputs": [
    {
     "name": "stdout",
     "output_type": "stream",
     "text": [
      "From https://github.com/tunglam994/INT3406-GROUP5-minBERT_for_document_classification\r\n",
      " * branch            knowledge-injection -> FETCH_HEAD\r\n",
      "Already up to date.\r\n"
     ]
    }
   ],
   "source": [
    "# Nếu sửa gì thì fetch, không cần phải restart notebook (thay knowledge-injection thành branch cần thay)\n",
    "!git fetch && git pull origin knowledge-injection"
   ]
  },
  {
   "cell_type": "markdown",
   "id": "0004dfe0",
   "metadata": {
    "papermill": {
     "duration": 0.005679,
     "end_time": "2024-11-17T17:07:24.478973",
     "exception": false,
     "start_time": "2024-11-17T17:07:24.473294",
     "status": "completed"
    },
    "tags": []
   },
   "source": [
    "# Chạy experiments"
   ]
  },
  {
   "cell_type": "markdown",
   "id": "61f87b5c",
   "metadata": {
    "papermill": {
     "duration": 0.006538,
     "end_time": "2024-11-17T17:07:24.491395",
     "exception": false,
     "start_time": "2024-11-17T17:07:24.484857",
     "status": "completed"
    },
    "tags": []
   },
   "source": [
    "## Lệnh chạy đầy đủ và giải thích"
   ]
  },
  {
   "cell_type": "code",
   "execution_count": 5,
   "id": "c132a784",
   "metadata": {
    "execution": {
     "iopub.execute_input": "2024-11-17T17:07:24.506872Z",
     "iopub.status.busy": "2024-11-17T17:07:24.506509Z",
     "iopub.status.idle": "2024-11-17T17:07:24.511837Z",
     "shell.execute_reply": "2024-11-17T17:07:24.511118Z"
    },
    "papermill": {
     "duration": 0.01511,
     "end_time": "2024-11-17T17:07:24.513789",
     "exception": false,
     "start_time": "2024-11-17T17:07:24.498679",
     "status": "completed"
    },
    "tags": []
   },
   "outputs": [],
   "source": [
    "# !python classifier.py \\\n",
    "#     --train data/book_summaries_train.csv \\  \n",
    "#     --dev data/book_summaries_valid.csv \\\n",
    "#     --test data/book_summaries_test.csv \\\n",
    "#     --seed 11711 \\ # random seed mặc định là 11711\n",
    "#     --pretrained_model model.pt \\ # nơi lưu model đã train để train tiếp, không load model bỏ dòng này\n",
    "#     --save_model_path ki_run1_50_0.01.pt \\ # nơi lưu model, default là pretrain-epochs-lr.pt\n",
    "#     --use_gpu \\\n",
    "#     --use_author \\ # dùng author embedding không, nếu không dùng thì bỏ dòng này\n",
    "#     --output_dir output \\ # folder lưu kết quả output, mặc định là 'output'\n",
    "#     --epochs 50 \\\n",
    "#     --batch_size 32 \\\n",
    "#     --hidden_dropout_prob 0.1 \\ # default là 0.3\n",
    "#     --lr 0.01 \\\n",
    "#     --option pretrain\n"
   ]
  },
  {
   "cell_type": "markdown",
   "id": "08e66791",
   "metadata": {
    "papermill": {
     "duration": 0.005662,
     "end_time": "2024-11-17T17:07:24.525360",
     "exception": false,
     "start_time": "2024-11-17T17:07:24.519698",
     "status": "completed"
    },
    "tags": []
   },
   "source": [
    "**Output files khi chạy code**\n",
    "- **dev_result.txt, test_result.txt**: lưu từng sample trong tập dev/test, nhãn dự đoán và nhãn chuẩn\n",
    "- **dev_report.txt, test_report.txt**: lưu classification report cho tập dev_test\n",
    "- **run.csv**: file CSV lưu lịch sử train (epoch, train_loss, train_acc, val_loss, val_acc)\n",
    "- **.pt**: file lưu model\n",
    "\n",
    "**Lưu ý:**\n",
    "- Nếu chạy nhiều experiment cùng một lúc trong một notebook thì nên để output_dir khác nhau vì nếu để giống nhau thì các kết quả sẽ bị ghi đè (file run.csv sẽ bị ghi tiếp)"
   ]
  },
  {
   "cell_type": "markdown",
   "id": "65ae947e",
   "metadata": {
    "papermill": {
     "duration": 0.00557,
     "end_time": "2024-11-17T17:07:24.536782",
     "exception": false,
     "start_time": "2024-11-17T17:07:24.531212",
     "status": "completed"
    },
    "tags": []
   },
   "source": [
    "## Lệnh chạy"
   ]
  },
  {
   "cell_type": "code",
   "execution_count": 6,
   "id": "1d75e9b4",
   "metadata": {
    "execution": {
     "iopub.execute_input": "2024-11-17T17:07:24.549870Z",
     "iopub.status.busy": "2024-11-17T17:07:24.549544Z",
     "iopub.status.idle": "2024-11-17T23:25:25.276817Z",
     "shell.execute_reply": "2024-11-17T23:25:25.275801Z"
    },
    "papermill": {
     "duration": 22680.73671,
     "end_time": "2024-11-17T23:25:25.279282",
     "exception": false,
     "start_time": "2024-11-17T17:07:24.542572",
     "status": "completed"
    },
    "tags": []
   },
   "outputs": [
    {
     "name": "stdout",
     "output_type": "stream",
     "text": [
      "args: {'train': 'data/book_summaries_v2_train.csv', 'dev': 'data/book_summaries_v2_dev.csv', 'test': 'data/book_summaries_v2_test.csv', 'seed': 11711, 'epochs': 75, 'option': 'pretrain', 'pretrained_model': None, 'save_model_path': 'minbert_run1_75ep_0.001.pt', 'use_gpu': True, 'use_author': False, 'output_dir': 'minbert_run1_75ep_0.001', 'batch_size': 32, 'hidden_dropout_prob': 0.3, 'lr': 0.001}\r\n",
      "Downloading: 100%|████████████████████████████| 232k/232k [00:00<00:00, 582kB/s]\r\n",
      "load 9525 data from data/book_summaries_v2_train.csv\r\n",
      "load 2041 data from data/book_summaries_v2_dev.csv\r\n",
      "Downloading: 100%|█████████████████████████████| 383/383 [00:00<00:00, 1.98MB/s]\r\n",
      "Downloading: 100%|█████████████████████████| 45.1M/45.1M [00:00<00:00, 54.8MB/s]\r\n",
      "/kaggle/working/INT3406-GROUP5-minBERT_for_document_classification/base_bert.py:115: FutureWarning: You are using `torch.load` with `weights_only=False` (the current default value), which uses the default pickle module implicitly. It is possible to construct malicious pickle data which will execute arbitrary code during unpickling (See https://github.com/pytorch/pytorch/blob/main/SECURITY.md#untrusted-models for more details). In a future release, the default value for `weights_only` will be flipped to `True`. This limits the functions that could be executed during unpickling. Arbitrary objects will no longer be allowed to be loaded via this mode unless they are explicitly allowlisted by the user via `torch.serialization.add_safe_globals`. We recommend you start setting `weights_only=True` for any use case where you don't have full control of the loaded file. Please open an issue on GitHub for any issues related to this experimental feature.\r\n",
      "  state_dict = torch.load(resolved_archive_file, map_location=\"cpu\")\r\n",
      "train-0: 100%|████████████████████████████████| 298/298 [02:15<00:00,  2.20it/s]\r\n",
      "eval: 100%|███████████████████████████████████| 298/298 [02:14<00:00,  2.21it/s]\r\n",
      "eval: 100%|█████████████████████████████████████| 64/64 [00:28<00:00,  2.26it/s]\r\n",
      "save the model to minbert_run1_75ep_0.001/minbert_run1_75ep_0.001.pt\r\n",
      "epoch 0: train loss :: 1.689, train acc :: 0.437, dev loss :: 1.489, dev acc :: 0.426\r\n",
      "train-1: 100%|████████████████████████████████| 298/298 [02:15<00:00,  2.21it/s]\r\n",
      "eval: 100%|███████████████████████████████████| 298/298 [02:14<00:00,  2.22it/s]\r\n",
      "eval: 100%|█████████████████████████████████████| 64/64 [00:28<00:00,  2.27it/s]\r\n",
      "save the model to minbert_run1_75ep_0.001/minbert_run1_75ep_0.001.pt\r\n",
      "epoch 1: train loss :: 1.556, train acc :: 0.487, dev loss :: 1.369, dev acc :: 0.487\r\n",
      "train-2: 100%|████████████████████████████████| 298/298 [02:14<00:00,  2.21it/s]\r\n",
      "eval: 100%|███████████████████████████████████| 298/298 [02:14<00:00,  2.21it/s]\r\n",
      "eval: 100%|█████████████████████████████████████| 64/64 [00:28<00:00,  2.26it/s]\r\n",
      "epoch 2: train loss :: 1.521, train acc :: 0.479, dev loss :: 1.382, dev acc :: 0.470\r\n",
      "train-3: 100%|████████████████████████████████| 298/298 [02:14<00:00,  2.21it/s]\r\n",
      "eval: 100%|███████████████████████████████████| 298/298 [02:14<00:00,  2.21it/s]\r\n",
      "eval: 100%|█████████████████████████████████████| 64/64 [00:28<00:00,  2.26it/s]\r\n",
      "save the model to minbert_run1_75ep_0.001/minbert_run1_75ep_0.001.pt\r\n",
      "epoch 3: train loss :: 1.500, train acc :: 0.517, dev loss :: 1.327, dev acc :: 0.503\r\n",
      "train-4: 100%|████████████████████████████████| 298/298 [02:14<00:00,  2.21it/s]\r\n",
      "eval: 100%|███████████████████████████████████| 298/298 [02:15<00:00,  2.21it/s]\r\n",
      "eval: 100%|█████████████████████████████████████| 64/64 [00:28<00:00,  2.26it/s]\r\n",
      "save the model to minbert_run1_75ep_0.001/minbert_run1_75ep_0.001.pt\r\n",
      "epoch 4: train loss :: 1.479, train acc :: 0.517, dev loss :: 1.313, dev acc :: 0.507\r\n",
      "train-5: 100%|████████████████████████████████| 298/298 [02:14<00:00,  2.21it/s]\r\n",
      "eval: 100%|███████████████████████████████████| 298/298 [02:14<00:00,  2.21it/s]\r\n",
      "eval: 100%|█████████████████████████████████████| 64/64 [00:28<00:00,  2.25it/s]\r\n",
      "save the model to minbert_run1_75ep_0.001/minbert_run1_75ep_0.001.pt\r\n",
      "epoch 5: train loss :: 1.479, train acc :: 0.510, dev loss :: 1.321, dev acc :: 0.510\r\n",
      "train-6: 100%|████████████████████████████████| 298/298 [02:14<00:00,  2.21it/s]\r\n",
      "eval: 100%|███████████████████████████████████| 298/298 [02:14<00:00,  2.21it/s]\r\n",
      "eval: 100%|█████████████████████████████████████| 64/64 [00:28<00:00,  2.25it/s]\r\n",
      "save the model to minbert_run1_75ep_0.001/minbert_run1_75ep_0.001.pt\r\n",
      "epoch 6: train loss :: 1.451, train acc :: 0.525, dev loss :: 1.296, dev acc :: 0.517\r\n",
      "train-7: 100%|████████████████████████████████| 298/298 [02:15<00:00,  2.21it/s]\r\n",
      "eval: 100%|███████████████████████████████████| 298/298 [02:14<00:00,  2.21it/s]\r\n",
      "eval: 100%|█████████████████████████████████████| 64/64 [00:28<00:00,  2.25it/s]\r\n",
      "epoch 7: train loss :: 1.447, train acc :: 0.526, dev loss :: 1.302, dev acc :: 0.512\r\n",
      "train-8: 100%|████████████████████████████████| 298/298 [02:14<00:00,  2.21it/s]\r\n",
      "eval: 100%|███████████████████████████████████| 298/298 [02:14<00:00,  2.21it/s]\r\n",
      "eval: 100%|█████████████████████████████████████| 64/64 [00:28<00:00,  2.26it/s]\r\n",
      "epoch 8: train loss :: 1.432, train acc :: 0.526, dev loss :: 1.276, dev acc :: 0.510\r\n",
      "train-9: 100%|████████████████████████████████| 298/298 [02:14<00:00,  2.22it/s]\r\n",
      "eval: 100%|███████████████████████████████████| 298/298 [02:14<00:00,  2.21it/s]\r\n",
      "eval: 100%|█████████████████████████████████████| 64/64 [00:28<00:00,  2.26it/s]\r\n",
      "save the model to minbert_run1_75ep_0.001/minbert_run1_75ep_0.001.pt\r\n",
      "epoch 9: train loss :: 1.449, train acc :: 0.532, dev loss :: 1.286, dev acc :: 0.519\r\n",
      "train-10: 100%|███████████████████████████████| 298/298 [02:14<00:00,  2.21it/s]\r\n",
      "eval: 100%|███████████████████████████████████| 298/298 [02:14<00:00,  2.21it/s]\r\n",
      "eval: 100%|█████████████████████████████████████| 64/64 [00:28<00:00,  2.25it/s]\r\n",
      "epoch 10: train loss :: 1.443, train acc :: 0.524, dev loss :: 1.306, dev acc :: 0.503\r\n",
      "train-11: 100%|███████████████████████████████| 298/298 [02:14<00:00,  2.21it/s]\r\n",
      "eval: 100%|███████████████████████████████████| 298/298 [02:14<00:00,  2.22it/s]\r\n",
      "eval: 100%|█████████████████████████████████████| 64/64 [00:28<00:00,  2.27it/s]\r\n",
      "save the model to minbert_run1_75ep_0.001/minbert_run1_75ep_0.001.pt\r\n",
      "epoch 11: train loss :: 1.421, train acc :: 0.530, dev loss :: 1.288, dev acc :: 0.520\r\n",
      "train-12: 100%|███████████████████████████████| 298/298 [02:14<00:00,  2.21it/s]\r\n",
      "eval: 100%|███████████████████████████████████| 298/298 [02:14<00:00,  2.21it/s]\r\n",
      "eval: 100%|█████████████████████████████████████| 64/64 [00:28<00:00,  2.25it/s]\r\n",
      "save the model to minbert_run1_75ep_0.001/minbert_run1_75ep_0.001.pt\r\n",
      "epoch 12: train loss :: 1.415, train acc :: 0.544, dev loss :: 1.250, dev acc :: 0.528\r\n",
      "train-13: 100%|███████████████████████████████| 298/298 [02:15<00:00,  2.20it/s]\r\n",
      "eval: 100%|███████████████████████████████████| 298/298 [02:14<00:00,  2.21it/s]\r\n",
      "eval: 100%|█████████████████████████████████████| 64/64 [00:28<00:00,  2.27it/s]\r\n",
      "epoch 13: train loss :: 1.425, train acc :: 0.532, dev loss :: 1.295, dev acc :: 0.520\r\n",
      "train-14: 100%|███████████████████████████████| 298/298 [02:14<00:00,  2.21it/s]\r\n",
      "eval: 100%|███████████████████████████████████| 298/298 [02:14<00:00,  2.21it/s]\r\n",
      "eval: 100%|█████████████████████████████████████| 64/64 [00:28<00:00,  2.27it/s]\r\n",
      "epoch 14: train loss :: 1.413, train acc :: 0.536, dev loss :: 1.276, dev acc :: 0.514\r\n",
      "train-15: 100%|███████████████████████████████| 298/298 [02:14<00:00,  2.22it/s]\r\n",
      "eval: 100%|███████████████████████████████████| 298/298 [02:14<00:00,  2.21it/s]\r\n",
      "eval: 100%|█████████████████████████████████████| 64/64 [00:28<00:00,  2.27it/s]\r\n",
      "epoch 15: train loss :: 1.418, train acc :: 0.533, dev loss :: 1.286, dev acc :: 0.522\r\n",
      "train-16: 100%|███████████████████████████████| 298/298 [02:14<00:00,  2.22it/s]\r\n",
      "eval: 100%|███████████████████████████████████| 298/298 [02:15<00:00,  2.20it/s]\r\n",
      "eval: 100%|█████████████████████████████████████| 64/64 [00:28<00:00,  2.23it/s]\r\n",
      "epoch 16: train loss :: 1.407, train acc :: 0.532, dev loss :: 1.276, dev acc :: 0.515\r\n",
      "train-17: 100%|███████████████████████████████| 298/298 [02:15<00:00,  2.21it/s]\r\n",
      "eval: 100%|███████████████████████████████████| 298/298 [02:14<00:00,  2.22it/s]\r\n",
      "eval: 100%|█████████████████████████████████████| 64/64 [00:28<00:00,  2.27it/s]\r\n",
      "save the model to minbert_run1_75ep_0.001/minbert_run1_75ep_0.001.pt\r\n",
      "epoch 17: train loss :: 1.405, train acc :: 0.552, dev loss :: 1.266, dev acc :: 0.535\r\n",
      "train-18: 100%|███████████████████████████████| 298/298 [02:14<00:00,  2.22it/s]\r\n",
      "eval: 100%|███████████████████████████████████| 298/298 [02:14<00:00,  2.22it/s]\r\n",
      "eval: 100%|█████████████████████████████████████| 64/64 [00:28<00:00,  2.26it/s]\r\n",
      "epoch 18: train loss :: 1.396, train acc :: 0.524, dev loss :: 1.296, dev acc :: 0.506\r\n",
      "train-19: 100%|███████████████████████████████| 298/298 [02:15<00:00,  2.20it/s]\r\n",
      "eval: 100%|███████████████████████████████████| 298/298 [02:15<00:00,  2.21it/s]\r\n",
      "eval: 100%|█████████████████████████████████████| 64/64 [00:28<00:00,  2.24it/s]\r\n",
      "epoch 19: train loss :: 1.402, train acc :: 0.538, dev loss :: 1.261, dev acc :: 0.521\r\n",
      "train-20: 100%|███████████████████████████████| 298/298 [02:15<00:00,  2.20it/s]\r\n",
      "eval: 100%|███████████████████████████████████| 298/298 [02:14<00:00,  2.22it/s]\r\n",
      "eval: 100%|█████████████████████████████████████| 64/64 [00:28<00:00,  2.27it/s]\r\n",
      "epoch 20: train loss :: 1.390, train acc :: 0.544, dev loss :: 1.255, dev acc :: 0.523\r\n",
      "train-21: 100%|███████████████████████████████| 298/298 [02:14<00:00,  2.22it/s]\r\n",
      "eval: 100%|███████████████████████████████████| 298/298 [02:14<00:00,  2.21it/s]\r\n",
      "eval: 100%|█████████████████████████████████████| 64/64 [00:28<00:00,  2.27it/s]\r\n",
      "save the model to minbert_run1_75ep_0.001/minbert_run1_75ep_0.001.pt\r\n",
      "epoch 21: train loss :: 1.400, train acc :: 0.545, dev loss :: 1.262, dev acc :: 0.535\r\n",
      "train-22: 100%|███████████████████████████████| 298/298 [02:14<00:00,  2.22it/s]\r\n",
      "eval: 100%|███████████████████████████████████| 298/298 [02:14<00:00,  2.22it/s]\r\n",
      "eval: 100%|█████████████████████████████████████| 64/64 [00:28<00:00,  2.27it/s]\r\n",
      "epoch 22: train loss :: 1.397, train acc :: 0.549, dev loss :: 1.253, dev acc :: 0.535\r\n",
      "train-23: 100%|███████████████████████████████| 298/298 [02:14<00:00,  2.22it/s]\r\n",
      "eval: 100%|███████████████████████████████████| 298/298 [02:14<00:00,  2.21it/s]\r\n",
      "eval: 100%|█████████████████████████████████████| 64/64 [00:28<00:00,  2.26it/s]\r\n",
      "epoch 23: train loss :: 1.385, train acc :: 0.536, dev loss :: 1.260, dev acc :: 0.518\r\n",
      "train-24: 100%|███████████████████████████████| 298/298 [02:14<00:00,  2.22it/s]\r\n",
      "eval: 100%|███████████████████████████████████| 298/298 [02:14<00:00,  2.21it/s]\r\n",
      "eval: 100%|█████████████████████████████████████| 64/64 [00:28<00:00,  2.24it/s]\r\n",
      "epoch 24: train loss :: 1.388, train acc :: 0.556, dev loss :: 1.244, dev acc :: 0.532\r\n",
      "train-25: 100%|███████████████████████████████| 298/298 [02:16<00:00,  2.18it/s]\r\n",
      "eval: 100%|███████████████████████████████████| 298/298 [02:15<00:00,  2.20it/s]\r\n",
      "eval: 100%|█████████████████████████████████████| 64/64 [00:28<00:00,  2.24it/s]\r\n",
      "epoch 25: train loss :: 1.402, train acc :: 0.537, dev loss :: 1.271, dev acc :: 0.520\r\n",
      "train-26: 100%|███████████████████████████████| 298/298 [02:14<00:00,  2.21it/s]\r\n",
      "eval: 100%|███████████████████████████████████| 298/298 [02:14<00:00,  2.21it/s]\r\n",
      "eval: 100%|█████████████████████████████████████| 64/64 [00:28<00:00,  2.26it/s]\r\n",
      "epoch 26: train loss :: 1.393, train acc :: 0.542, dev loss :: 1.258, dev acc :: 0.519\r\n",
      "train-27: 100%|███████████████████████████████| 298/298 [02:14<00:00,  2.21it/s]\r\n",
      "eval: 100%|███████████████████████████████████| 298/298 [02:14<00:00,  2.21it/s]\r\n",
      "eval: 100%|█████████████████████████████████████| 64/64 [00:28<00:00,  2.27it/s]\r\n",
      "epoch 27: train loss :: 1.399, train acc :: 0.547, dev loss :: 1.278, dev acc :: 0.517\r\n",
      "train-28: 100%|███████████████████████████████| 298/298 [02:14<00:00,  2.22it/s]\r\n",
      "eval: 100%|███████████████████████████████████| 298/298 [02:14<00:00,  2.21it/s]\r\n",
      "eval: 100%|█████████████████████████████████████| 64/64 [00:28<00:00,  2.25it/s]\r\n",
      "epoch 28: train loss :: 1.384, train acc :: 0.545, dev loss :: 1.258, dev acc :: 0.520\r\n",
      "train-29: 100%|███████████████████████████████| 298/298 [02:15<00:00,  2.20it/s]\r\n",
      "eval: 100%|███████████████████████████████████| 298/298 [02:14<00:00,  2.21it/s]\r\n",
      "eval: 100%|█████████████████████████████████████| 64/64 [00:28<00:00,  2.27it/s]\r\n",
      "epoch 29: train loss :: 1.384, train acc :: 0.544, dev loss :: 1.274, dev acc :: 0.511\r\n",
      "train-30: 100%|███████████████████████████████| 298/298 [02:14<00:00,  2.22it/s]\r\n",
      "eval: 100%|███████████████████████████████████| 298/298 [02:14<00:00,  2.21it/s]\r\n",
      "eval: 100%|█████████████████████████████████████| 64/64 [00:28<00:00,  2.26it/s]\r\n",
      "epoch 30: train loss :: 1.391, train acc :: 0.553, dev loss :: 1.254, dev acc :: 0.534\r\n",
      "train-31: 100%|███████████████████████████████| 298/298 [02:14<00:00,  2.21it/s]\r\n",
      "eval: 100%|███████████████████████████████████| 298/298 [02:15<00:00,  2.21it/s]\r\n",
      "eval: 100%|█████████████████████████████████████| 64/64 [00:28<00:00,  2.25it/s]\r\n",
      "epoch 31: train loss :: 1.385, train acc :: 0.560, dev loss :: 1.259, dev acc :: 0.528\r\n",
      "train-32: 100%|███████████████████████████████| 298/298 [02:15<00:00,  2.20it/s]\r\n",
      "eval: 100%|███████████████████████████████████| 298/298 [02:15<00:00,  2.20it/s]\r\n",
      "eval: 100%|█████████████████████████████████████| 64/64 [00:28<00:00,  2.25it/s]\r\n",
      "epoch 32: train loss :: 1.376, train acc :: 0.553, dev loss :: 1.262, dev acc :: 0.520\r\n",
      "train-33: 100%|███████████████████████████████| 298/298 [02:15<00:00,  2.20it/s]\r\n",
      "eval: 100%|███████████████████████████████████| 298/298 [02:15<00:00,  2.20it/s]\r\n",
      "eval: 100%|█████████████████████████████████████| 64/64 [00:28<00:00,  2.24it/s]\r\n",
      "epoch 33: train loss :: 1.384, train acc :: 0.554, dev loss :: 1.245, dev acc :: 0.525\r\n",
      "train-34: 100%|███████████████████████████████| 298/298 [02:15<00:00,  2.19it/s]\r\n",
      "eval: 100%|███████████████████████████████████| 298/298 [02:17<00:00,  2.16it/s]\r\n",
      "eval: 100%|█████████████████████████████████████| 64/64 [00:28<00:00,  2.26it/s]\r\n",
      "save the model to minbert_run1_75ep_0.001/minbert_run1_75ep_0.001.pt\r\n",
      "epoch 34: train loss :: 1.383, train acc :: 0.563, dev loss :: 1.236, dev acc :: 0.538\r\n",
      "train-35: 100%|███████████████████████████████| 298/298 [02:15<00:00,  2.20it/s]\r\n",
      "eval: 100%|███████████████████████████████████| 298/298 [02:15<00:00,  2.20it/s]\r\n",
      "eval: 100%|█████████████████████████████████████| 64/64 [00:28<00:00,  2.26it/s]\r\n",
      "epoch 35: train loss :: 1.387, train acc :: 0.558, dev loss :: 1.252, dev acc :: 0.529\r\n",
      "train-36: 100%|███████████████████████████████| 298/298 [02:15<00:00,  2.20it/s]\r\n",
      "eval: 100%|███████████████████████████████████| 298/298 [02:15<00:00,  2.20it/s]\r\n",
      "eval: 100%|█████████████████████████████████████| 64/64 [00:28<00:00,  2.26it/s]\r\n",
      "epoch 36: train loss :: 1.370, train acc :: 0.562, dev loss :: 1.238, dev acc :: 0.536\r\n",
      "train-37: 100%|███████████████████████████████| 298/298 [02:15<00:00,  2.20it/s]\r\n",
      "eval: 100%|███████████████████████████████████| 298/298 [02:15<00:00,  2.20it/s]\r\n",
      "eval: 100%|█████████████████████████████████████| 64/64 [00:28<00:00,  2.27it/s]\r\n",
      "epoch 37: train loss :: 1.374, train acc :: 0.553, dev loss :: 1.239, dev acc :: 0.522\r\n",
      "train-38: 100%|███████████████████████████████| 298/298 [02:15<00:00,  2.21it/s]\r\n",
      "eval: 100%|███████████████████████████████████| 298/298 [02:16<00:00,  2.19it/s]\r\n",
      "eval: 100%|█████████████████████████████████████| 64/64 [00:28<00:00,  2.26it/s]\r\n",
      "epoch 38: train loss :: 1.370, train acc :: 0.558, dev loss :: 1.228, dev acc :: 0.527\r\n",
      "train-39: 100%|███████████████████████████████| 298/298 [02:15<00:00,  2.20it/s]\r\n",
      "eval: 100%|███████████████████████████████████| 298/298 [02:15<00:00,  2.20it/s]\r\n",
      "eval: 100%|█████████████████████████████████████| 64/64 [00:28<00:00,  2.25it/s]\r\n",
      "epoch 39: train loss :: 1.375, train acc :: 0.553, dev loss :: 1.247, dev acc :: 0.518\r\n",
      "train-40: 100%|███████████████████████████████| 298/298 [02:15<00:00,  2.21it/s]\r\n",
      "eval: 100%|███████████████████████████████████| 298/298 [02:15<00:00,  2.20it/s]\r\n",
      "eval: 100%|█████████████████████████████████████| 64/64 [00:28<00:00,  2.26it/s]\r\n",
      "epoch 40: train loss :: 1.372, train acc :: 0.556, dev loss :: 1.239, dev acc :: 0.529\r\n",
      "train-41: 100%|███████████████████████████████| 298/298 [02:15<00:00,  2.19it/s]\r\n",
      "eval: 100%|███████████████████████████████████| 298/298 [02:15<00:00,  2.19it/s]\r\n",
      "eval: 100%|█████████████████████████████████████| 64/64 [00:28<00:00,  2.23it/s]\r\n",
      "epoch 41: train loss :: 1.361, train acc :: 0.560, dev loss :: 1.239, dev acc :: 0.536\r\n",
      "train-42: 100%|███████████████████████████████| 298/298 [02:15<00:00,  2.20it/s]\r\n",
      "eval: 100%|███████████████████████████████████| 298/298 [02:15<00:00,  2.20it/s]\r\n",
      "eval: 100%|█████████████████████████████████████| 64/64 [00:28<00:00,  2.23it/s]\r\n",
      "epoch 42: train loss :: 1.374, train acc :: 0.553, dev loss :: 1.241, dev acc :: 0.528\r\n",
      "train-43: 100%|███████████████████████████████| 298/298 [02:15<00:00,  2.20it/s]\r\n",
      "eval: 100%|███████████████████████████████████| 298/298 [02:15<00:00,  2.20it/s]\r\n",
      "eval: 100%|█████████████████████████████████████| 64/64 [00:28<00:00,  2.24it/s]\r\n",
      "epoch 43: train loss :: 1.360, train acc :: 0.563, dev loss :: 1.239, dev acc :: 0.535\r\n",
      "train-44: 100%|███████████████████████████████| 298/298 [02:15<00:00,  2.20it/s]\r\n",
      "eval: 100%|███████████████████████████████████| 298/298 [02:15<00:00,  2.20it/s]\r\n",
      "eval: 100%|█████████████████████████████████████| 64/64 [00:28<00:00,  2.22it/s]\r\n",
      "epoch 44: train loss :: 1.370, train acc :: 0.569, dev loss :: 1.235, dev acc :: 0.535\r\n",
      "train-45: 100%|███████████████████████████████| 298/298 [02:16<00:00,  2.18it/s]\r\n",
      "eval: 100%|███████████████████████████████████| 298/298 [02:15<00:00,  2.19it/s]\r\n",
      "eval: 100%|█████████████████████████████████████| 64/64 [00:28<00:00,  2.27it/s]\r\n",
      "epoch 45: train loss :: 1.365, train acc :: 0.559, dev loss :: 1.255, dev acc :: 0.521\r\n",
      "train-46: 100%|███████████████████████████████| 298/298 [02:14<00:00,  2.21it/s]\r\n",
      "eval: 100%|███████████████████████████████████| 298/298 [02:15<00:00,  2.21it/s]\r\n",
      "eval: 100%|█████████████████████████████████████| 64/64 [00:28<00:00,  2.26it/s]\r\n",
      "epoch 46: train loss :: 1.359, train acc :: 0.560, dev loss :: 1.252, dev acc :: 0.524\r\n",
      "train-47: 100%|███████████████████████████████| 298/298 [02:14<00:00,  2.21it/s]\r\n",
      "eval: 100%|███████████████████████████████████| 298/298 [02:14<00:00,  2.21it/s]\r\n",
      "eval: 100%|█████████████████████████████████████| 64/64 [00:28<00:00,  2.26it/s]\r\n",
      "epoch 47: train loss :: 1.358, train acc :: 0.567, dev loss :: 1.227, dev acc :: 0.534\r\n",
      "train-48: 100%|███████████████████████████████| 298/298 [02:14<00:00,  2.21it/s]\r\n",
      "eval: 100%|███████████████████████████████████| 298/298 [02:14<00:00,  2.21it/s]\r\n",
      "eval: 100%|█████████████████████████████████████| 64/64 [00:28<00:00,  2.23it/s]\r\n",
      "epoch 48: train loss :: 1.363, train acc :: 0.565, dev loss :: 1.234, dev acc :: 0.529\r\n",
      "train-49: 100%|███████████████████████████████| 298/298 [02:14<00:00,  2.21it/s]\r\n",
      "eval: 100%|███████████████████████████████████| 298/298 [02:15<00:00,  2.20it/s]\r\n",
      "eval: 100%|█████████████████████████████████████| 64/64 [00:28<00:00,  2.25it/s]\r\n",
      "epoch 49: train loss :: 1.357, train acc :: 0.573, dev loss :: 1.220, dev acc :: 0.537\r\n",
      "train-50: 100%|███████████████████████████████| 298/298 [02:14<00:00,  2.21it/s]\r\n",
      "eval: 100%|███████████████████████████████████| 298/298 [02:15<00:00,  2.21it/s]\r\n",
      "eval: 100%|█████████████████████████████████████| 64/64 [00:28<00:00,  2.26it/s]\r\n",
      "epoch 50: train loss :: 1.355, train acc :: 0.568, dev loss :: 1.225, dev acc :: 0.537\r\n",
      "train-51: 100%|███████████████████████████████| 298/298 [02:14<00:00,  2.21it/s]\r\n",
      "eval: 100%|███████████████████████████████████| 298/298 [02:14<00:00,  2.21it/s]\r\n",
      "eval: 100%|█████████████████████████████████████| 64/64 [00:28<00:00,  2.26it/s]\r\n",
      "epoch 51: train loss :: 1.356, train acc :: 0.567, dev loss :: 1.249, dev acc :: 0.526\r\n",
      "train-52: 100%|███████████████████████████████| 298/298 [02:14<00:00,  2.21it/s]\r\n",
      "eval: 100%|███████████████████████████████████| 298/298 [02:14<00:00,  2.21it/s]\r\n",
      "eval: 100%|█████████████████████████████████████| 64/64 [00:28<00:00,  2.27it/s]\r\n",
      "epoch 52: train loss :: 1.354, train acc :: 0.568, dev loss :: 1.238, dev acc :: 0.534\r\n",
      "train-53: 100%|███████████████████████████████| 298/298 [02:14<00:00,  2.22it/s]\r\n",
      "eval: 100%|███████████████████████████████████| 298/298 [02:14<00:00,  2.21it/s]\r\n",
      "eval: 100%|█████████████████████████████████████| 64/64 [00:28<00:00,  2.25it/s]\r\n",
      "epoch 53: train loss :: 1.360, train acc :: 0.575, dev loss :: 1.234, dev acc :: 0.529\r\n",
      "train-54: 100%|███████████████████████████████| 298/298 [02:14<00:00,  2.21it/s]\r\n",
      "eval: 100%|███████████████████████████████████| 298/298 [02:14<00:00,  2.21it/s]\r\n",
      "eval: 100%|█████████████████████████████████████| 64/64 [00:28<00:00,  2.27it/s]\r\n",
      "save the model to minbert_run1_75ep_0.001/minbert_run1_75ep_0.001.pt\r\n",
      "epoch 54: train loss :: 1.358, train acc :: 0.570, dev loss :: 1.251, dev acc :: 0.541\r\n",
      "train-55: 100%|███████████████████████████████| 298/298 [02:14<00:00,  2.22it/s]\r\n",
      "eval: 100%|███████████████████████████████████| 298/298 [02:14<00:00,  2.22it/s]\r\n",
      "eval: 100%|█████████████████████████████████████| 64/64 [00:28<00:00,  2.27it/s]\r\n",
      "epoch 55: train loss :: 1.361, train acc :: 0.560, dev loss :: 1.252, dev acc :: 0.529\r\n",
      "train-56: 100%|███████████████████████████████| 298/298 [02:14<00:00,  2.22it/s]\r\n",
      "eval: 100%|███████████████████████████████████| 298/298 [02:13<00:00,  2.22it/s]\r\n",
      "eval: 100%|█████████████████████████████████████| 64/64 [00:28<00:00,  2.27it/s]\r\n",
      "epoch 56: train loss :: 1.350, train acc :: 0.569, dev loss :: 1.237, dev acc :: 0.530\r\n",
      "train-57: 100%|███████████████████████████████| 298/298 [02:14<00:00,  2.21it/s]\r\n",
      "eval: 100%|███████████████████████████████████| 298/298 [02:14<00:00,  2.22it/s]\r\n",
      "eval: 100%|█████████████████████████████████████| 64/64 [00:28<00:00,  2.26it/s]\r\n",
      "epoch 57: train loss :: 1.355, train acc :: 0.569, dev loss :: 1.245, dev acc :: 0.526\r\n",
      "train-58: 100%|███████████████████████████████| 298/298 [02:14<00:00,  2.22it/s]\r\n",
      "eval: 100%|███████████████████████████████████| 298/298 [02:14<00:00,  2.22it/s]\r\n",
      "eval: 100%|█████████████████████████████████████| 64/64 [00:28<00:00,  2.27it/s]\r\n",
      "epoch 58: train loss :: 1.344, train acc :: 0.573, dev loss :: 1.233, dev acc :: 0.525\r\n",
      "train-59: 100%|███████████████████████████████| 298/298 [02:14<00:00,  2.21it/s]\r\n",
      "eval: 100%|███████████████████████████████████| 298/298 [02:14<00:00,  2.22it/s]\r\n",
      "eval: 100%|█████████████████████████████████████| 64/64 [00:28<00:00,  2.27it/s]\r\n",
      "epoch 59: train loss :: 1.342, train acc :: 0.569, dev loss :: 1.234, dev acc :: 0.536\r\n",
      "train-60: 100%|███████████████████████████████| 298/298 [02:14<00:00,  2.22it/s]\r\n",
      "eval: 100%|███████████████████████████████████| 298/298 [02:14<00:00,  2.22it/s]\r\n",
      "eval: 100%|█████████████████████████████████████| 64/64 [00:28<00:00,  2.27it/s]\r\n",
      "epoch 60: train loss :: 1.350, train acc :: 0.577, dev loss :: 1.238, dev acc :: 0.531\r\n",
      "train-61: 100%|███████████████████████████████| 298/298 [02:14<00:00,  2.21it/s]\r\n",
      "eval: 100%|███████████████████████████████████| 298/298 [02:14<00:00,  2.21it/s]\r\n",
      "eval: 100%|█████████████████████████████████████| 64/64 [00:28<00:00,  2.27it/s]\r\n",
      "epoch 61: train loss :: 1.341, train acc :: 0.569, dev loss :: 1.242, dev acc :: 0.530\r\n",
      "train-62: 100%|███████████████████████████████| 298/298 [02:14<00:00,  2.22it/s]\r\n",
      "eval: 100%|███████████████████████████████████| 298/298 [02:14<00:00,  2.22it/s]\r\n",
      "eval: 100%|█████████████████████████████████████| 64/64 [00:28<00:00,  2.28it/s]\r\n",
      "save the model to minbert_run1_75ep_0.001/minbert_run1_75ep_0.001.pt\r\n",
      "epoch 62: train loss :: 1.353, train acc :: 0.581, dev loss :: 1.222, dev acc :: 0.546\r\n",
      "train-63: 100%|███████████████████████████████| 298/298 [02:14<00:00,  2.21it/s]\r\n",
      "eval: 100%|███████████████████████████████████| 298/298 [02:14<00:00,  2.22it/s]\r\n",
      "eval: 100%|█████████████████████████████████████| 64/64 [00:28<00:00,  2.28it/s]\r\n",
      "epoch 63: train loss :: 1.346, train acc :: 0.572, dev loss :: 1.248, dev acc :: 0.530\r\n",
      "train-64: 100%|███████████████████████████████| 298/298 [02:14<00:00,  2.21it/s]\r\n",
      "eval: 100%|███████████████████████████████████| 298/298 [02:15<00:00,  2.21it/s]\r\n",
      "eval: 100%|█████████████████████████████████████| 64/64 [00:28<00:00,  2.27it/s]\r\n",
      "epoch 64: train loss :: 1.347, train acc :: 0.567, dev loss :: 1.241, dev acc :: 0.528\r\n",
      "train-65: 100%|███████████████████████████████| 298/298 [02:15<00:00,  2.20it/s]\r\n",
      "eval: 100%|███████████████████████████████████| 298/298 [02:14<00:00,  2.21it/s]\r\n",
      "eval: 100%|█████████████████████████████████████| 64/64 [00:28<00:00,  2.24it/s]\r\n",
      "epoch 65: train loss :: 1.353, train acc :: 0.574, dev loss :: 1.227, dev acc :: 0.537\r\n",
      "train-66: 100%|███████████████████████████████| 298/298 [02:16<00:00,  2.19it/s]\r\n",
      "eval: 100%|███████████████████████████████████| 298/298 [02:15<00:00,  2.21it/s]\r\n",
      "eval: 100%|█████████████████████████████████████| 64/64 [00:28<00:00,  2.25it/s]\r\n",
      "epoch 66: train loss :: 1.338, train acc :: 0.576, dev loss :: 1.234, dev acc :: 0.537\r\n",
      "train-67: 100%|███████████████████████████████| 298/298 [02:14<00:00,  2.21it/s]\r\n",
      "eval: 100%|███████████████████████████████████| 298/298 [02:15<00:00,  2.20it/s]\r\n",
      "eval: 100%|█████████████████████████████████████| 64/64 [00:28<00:00,  2.26it/s]\r\n",
      "epoch 67: train loss :: 1.346, train acc :: 0.576, dev loss :: 1.243, dev acc :: 0.531\r\n",
      "train-68: 100%|███████████████████████████████| 298/298 [02:15<00:00,  2.21it/s]\r\n",
      "eval: 100%|███████████████████████████████████| 298/298 [02:14<00:00,  2.21it/s]\r\n",
      "eval: 100%|█████████████████████████████████████| 64/64 [00:28<00:00,  2.26it/s]\r\n",
      "epoch 68: train loss :: 1.349, train acc :: 0.573, dev loss :: 1.234, dev acc :: 0.534\r\n",
      "train-69: 100%|███████████████████████████████| 298/298 [02:16<00:00,  2.19it/s]\r\n",
      "eval: 100%|███████████████████████████████████| 298/298 [02:15<00:00,  2.21it/s]\r\n",
      "eval: 100%|█████████████████████████████████████| 64/64 [00:28<00:00,  2.26it/s]\r\n",
      "epoch 69: train loss :: 1.338, train acc :: 0.570, dev loss :: 1.242, dev acc :: 0.533\r\n",
      "train-70: 100%|███████████████████████████████| 298/298 [02:15<00:00,  2.21it/s]\r\n",
      "eval: 100%|███████████████████████████████████| 298/298 [02:15<00:00,  2.21it/s]\r\n",
      "eval: 100%|█████████████████████████████████████| 64/64 [00:28<00:00,  2.24it/s]\r\n",
      "epoch 70: train loss :: 1.344, train acc :: 0.577, dev loss :: 1.222, dev acc :: 0.544\r\n",
      "train-71: 100%|███████████████████████████████| 298/298 [02:16<00:00,  2.19it/s]\r\n",
      "eval: 100%|███████████████████████████████████| 298/298 [02:15<00:00,  2.20it/s]\r\n",
      "eval: 100%|█████████████████████████████████████| 64/64 [00:28<00:00,  2.26it/s]\r\n",
      "epoch 71: train loss :: 1.342, train acc :: 0.584, dev loss :: 1.217, dev acc :: 0.537\r\n",
      "train-72: 100%|███████████████████████████████| 298/298 [02:15<00:00,  2.20it/s]\r\n",
      "eval: 100%|███████████████████████████████████| 298/298 [02:15<00:00,  2.20it/s]\r\n",
      "eval: 100%|█████████████████████████████████████| 64/64 [00:28<00:00,  2.26it/s]\r\n",
      "epoch 72: train loss :: 1.344, train acc :: 0.578, dev loss :: 1.233, dev acc :: 0.536\r\n",
      "train-73: 100%|███████████████████████████████| 298/298 [02:15<00:00,  2.20it/s]\r\n",
      "eval: 100%|███████████████████████████████████| 298/298 [02:14<00:00,  2.21it/s]\r\n",
      "eval: 100%|█████████████████████████████████████| 64/64 [00:28<00:00,  2.27it/s]\r\n",
      "epoch 73: train loss :: 1.334, train acc :: 0.580, dev loss :: 1.226, dev acc :: 0.535\r\n",
      "train-74: 100%|███████████████████████████████| 298/298 [02:14<00:00,  2.21it/s]\r\n",
      "eval: 100%|███████████████████████████████████| 298/298 [02:15<00:00,  2.20it/s]\r\n",
      "eval: 100%|█████████████████████████████████████| 64/64 [00:28<00:00,  2.27it/s]\r\n",
      "epoch 74: train loss :: 1.326, train acc :: 0.578, dev loss :: 1.226, dev acc :: 0.540\r\n",
      "/kaggle/working/INT3406-GROUP5-minBERT_for_document_classification/classifier.py:308: FutureWarning: You are using `torch.load` with `weights_only=False` (the current default value), which uses the default pickle module implicitly. It is possible to construct malicious pickle data which will execute arbitrary code during unpickling (See https://github.com/pytorch/pytorch/blob/main/SECURITY.md#untrusted-models for more details). In a future release, the default value for `weights_only` will be flipped to `True`. This limits the functions that could be executed during unpickling. Arbitrary objects will no longer be allowed to be loaded via this mode unless they are explicitly allowlisted by the user via `torch.serialization.add_safe_globals`. We recommend you start setting `weights_only=True` for any use case where you don't have full control of the loaded file. Please open an issue on GitHub for any issues related to this experimental feature.\r\n",
      "  saved = torch.load(args.save_model_path)\r\n",
      "/kaggle/working/INT3406-GROUP5-minBERT_for_document_classification/base_bert.py:115: FutureWarning: You are using `torch.load` with `weights_only=False` (the current default value), which uses the default pickle module implicitly. It is possible to construct malicious pickle data which will execute arbitrary code during unpickling (See https://github.com/pytorch/pytorch/blob/main/SECURITY.md#untrusted-models for more details). In a future release, the default value for `weights_only` will be flipped to `True`. This limits the functions that could be executed during unpickling. Arbitrary objects will no longer be allowed to be loaded via this mode unless they are explicitly allowlisted by the user via `torch.serialization.add_safe_globals`. We recommend you start setting `weights_only=True` for any use case where you don't have full control of the loaded file. Please open an issue on GitHub for any issues related to this experimental feature.\r\n",
      "  state_dict = torch.load(resolved_archive_file, map_location=\"cpu\")\r\n",
      "load model from minbert_run1_75ep_0.001/minbert_run1_75ep_0.001.pt\r\n",
      "load 2041 data from data/book_summaries_v2_dev.csv\r\n",
      "load 2042 data from data/book_summaries_v2_test.csv\r\n",
      "eval: 100%|█████████████████████████████████████| 64/64 [00:28<00:00,  2.24it/s]\r\n",
      "eval: 100%|█████████████████████████████████████| 64/64 [00:28<00:00,  2.28it/s]\r\n",
      "dev acc :: 0.546\r\n",
      "test acc :: 0.540\r\n",
      "Test report saved to minbert_run1_75ep_0.001/test_report.txt\r\n",
      "Classification Report for Dev Data:\r\n",
      "                        precision    recall  f1-score   support\r\n",
      "\r\n",
      " Children's literature      0.531     0.441     0.482       254\r\n",
      "         Crime Fiction      0.430     0.624     0.509       226\r\n",
      "               Fantasy      0.560     0.709     0.626       309\r\n",
      "               Mystery      0.408     0.144     0.212       216\r\n",
      "           Non-fiction      0.742     0.852     0.793       223\r\n",
      "       Science Fiction      0.624     0.649     0.637       325\r\n",
      "              Suspense      0.414     0.307     0.353       218\r\n",
      "Young adult literature      0.513     0.530     0.521       270\r\n",
      "\r\n",
      "              accuracy                          0.546      2041\r\n",
      "             macro avg      0.528     0.532     0.517      2041\r\n",
      "          weighted avg      0.534     0.546     0.528      2041\r\n",
      "\r\n",
      "Classification Report for Test Data:\r\n",
      "                        precision    recall  f1-score   support\r\n",
      "\r\n",
      " Children's literature      0.563     0.476     0.516       254\r\n",
      "         Crime Fiction      0.387     0.588     0.467       226\r\n",
      "               Fantasy      0.578     0.719     0.641       310\r\n",
      "               Mystery      0.453     0.111     0.178       216\r\n",
      "           Non-fiction      0.746     0.870     0.803       223\r\n",
      "       Science Fiction      0.586     0.600     0.593       325\r\n",
      "              Suspense      0.357     0.281     0.314       217\r\n",
      "Young adult literature      0.539     0.557     0.548       271\r\n",
      "\r\n",
      "              accuracy                          0.540      2042\r\n",
      "             macro avg      0.526     0.525     0.508      2042\r\n",
      "          weighted avg      0.533     0.540     0.520      2042\r\n",
      "\r\n"
     ]
    }
   ],
   "source": [
    "!python classifier.py \\\n",
    "    --train data/book_summaries_v2_train.csv \\\n",
    "    --dev data/book_summaries_v2_dev.csv \\\n",
    "    --test data/book_summaries_v2_test.csv \\\n",
    "    --save_model_path minbert_run1_75ep_0.001.pt \\\n",
    "    --use_gpu \\\n",
    "    --output_dir minbert_run1_75ep_0.001 \\\n",
    "    --epochs 75 \\\n",
    "    --batch_size 32 \\\n",
    "    --lr 0.001 \\\n",
    "    --option pretrain\n"
   ]
  },
  {
   "cell_type": "code",
   "execution_count": 7,
   "id": "5128c83e",
   "metadata": {
    "execution": {
     "iopub.execute_input": "2024-11-17T23:25:33.482219Z",
     "iopub.status.busy": "2024-11-17T23:25:33.481718Z",
     "iopub.status.idle": "2024-11-17T23:25:33.487266Z",
     "shell.execute_reply": "2024-11-17T23:25:33.486249Z"
    },
    "papermill": {
     "duration": 4.137664,
     "end_time": "2024-11-17T23:25:33.489443",
     "exception": false,
     "start_time": "2024-11-17T23:25:29.351779",
     "status": "completed"
    },
    "tags": []
   },
   "outputs": [],
   "source": [
    "# !python classifier.py \\\n",
    "#     --train data/book_summaries_train.csv \\\n",
    "#     --dev data/book_summaries_valid.csv \\\n",
    "#     --test data/book_summaries_test.csv \\\n",
    "#     --use_gpu \\\n",
    "#     --use_author \\\n",
    "#     --output_dir minbert_run1_50_0.01 \\\n",
    "#     --epochs 50 \\\n",
    "#     --batch_size 32 \\\n",
    "#     --lr 0.01 \\\n",
    "#     --option pretrain\n"
   ]
  }
 ],
 "metadata": {
  "kaggle": {
   "accelerator": "gpu",
   "dataSources": [],
   "dockerImageVersionId": 30787,
   "isGpuEnabled": true,
   "isInternetEnabled": true,
   "language": "python",
   "sourceType": "notebook"
  },
  "kernelspec": {
   "display_name": "Python 3",
   "language": "python",
   "name": "python3"
  },
  "language_info": {
   "codemirror_mode": {
    "name": "ipython",
    "version": 3
   },
   "file_extension": ".py",
   "mimetype": "text/x-python",
   "name": "python",
   "nbconvert_exporter": "python",
   "pygments_lexer": "ipython3",
   "version": "3.10.14"
  },
  "papermill": {
   "default_parameters": {},
   "duration": 22711.798937,
   "end_time": "2024-11-17T23:25:37.919200",
   "environment_variables": {},
   "exception": null,
   "input_path": "__notebook__.ipynb",
   "output_path": "__notebook__.ipynb",
   "parameters": {},
   "start_time": "2024-11-17T17:07:06.120263",
   "version": "2.6.0"
  }
 },
 "nbformat": 4,
 "nbformat_minor": 5
}
