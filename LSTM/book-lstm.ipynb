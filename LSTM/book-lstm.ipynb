{
 "cells": [
  {
   "cell_type": "markdown",
   "id": "44017ebc",
   "metadata": {
    "papermill": {
     "duration": 0.003218,
     "end_time": "2024-11-15T12:48:05.971691",
     "exception": false,
     "start_time": "2024-11-15T12:48:05.968473",
     "status": "completed"
    },
    "tags": []
   },
   "source": [
    "# Fasttext Embedding + LSTM"
   ]
  },
  {
   "cell_type": "code",
   "execution_count": 4,
   "id": "9868f84d",
   "metadata": {
    "execution": {
     "iopub.execute_input": "2024-11-15T12:48:05.979468Z",
     "iopub.status.busy": "2024-11-15T12:48:05.979153Z",
     "iopub.status.idle": "2024-11-15T12:55:14.835992Z",
     "shell.execute_reply": "2024-11-15T12:55:14.834964Z"
    },
    "papermill": {
     "duration": 428.863561,
     "end_time": "2024-11-15T12:55:14.838551",
     "exception": false,
     "start_time": "2024-11-15T12:48:05.974990",
     "status": "completed"
    },
    "tags": []
   },
   "outputs": [
    {
     "name": "stdout",
     "output_type": "stream",
     "text": [
      "[=================================================-] 99.5% 953.5/958.4MB downloaded\n"
     ]
    }
   ],
   "source": [
    "import time\n",
    "import random\n",
    "import numpy as np\n",
    "import pandas as pd\n",
    "import torch\n",
    "import torch.nn as nn\n",
    "import torch.nn.functional as F\n",
    "from torch.utils.data import Dataset, DataLoader\n",
    "from sklearn.metrics import accuracy_score, f1_score\n",
    "from torch.optim import Adam\n",
    "from tqdm import tqdm\n",
    "import matplotlib.pyplot as plt\n",
    "import os\n",
    "from gensim.models import FastText\n",
    "import gensim.downloader as api\n",
    "\n",
    "\n",
    "# Hyperparameters and Configuration\n",
    "class Config:\n",
    "    batch_size = 32\n",
    "    hidden_size = 256\n",
    "    embedding_dim = 300  # FastText embedding dimension\n",
    "    num_epochs = 75\n",
    "    lr = 1e-3\n",
    "    hidden_dropout_prob = 0.3\n",
    "    seed = 11711\n",
    "    num_labels = 8  # Number of classes\n",
    "    checkpoint_path = \"/kaggle/working/best_lstm_model.pt\"  # Path to save and load checkpoint\n",
    "\n",
    "# Fix random seed for reproducibility\n",
    "def seed_everything(seed=11711):\n",
    "    random.seed(seed)\n",
    "    np.random.seed(seed)\n",
    "    torch.manual_seed(seed)\n",
    "    torch.cuda.manual_seed(seed)\n",
    "    torch.backends.cudnn.deterministic = True\n",
    "\n",
    "seed_everything(Config.seed)\n",
    "\n",
    "# Load the pre-trained FastText model\n",
    "fasttext_model = api.load(\"fasttext-wiki-news-subwords-300\")  # This downloads a 300-dimensional FastText embedding\n",
    "\n",
    "# Build word index and embedding matrix\n",
    "vocab_size = len(fasttext_model.key_to_index) + 1\n",
    "embedding_dim = fasttext_model.vector_size\n",
    "embedding_matrix = np.zeros((vocab_size, embedding_dim))\n",
    "word_index = {}\n",
    "for i, word in enumerate(fasttext_model.index_to_key):\n",
    "    word_index[word] = i + 1\n",
    "    embedding_matrix[i + 1] = fasttext_model[word]\n",
    "\n",
    "        "
   ]
  },
  {
   "cell_type": "code",
   "execution_count": null,
   "id": "283dae6b",
   "metadata": {
    "execution": {
     "iopub.execute_input": "2024-11-15T12:55:30.777657Z",
     "iopub.status.busy": "2024-11-15T12:55:30.777144Z",
     "iopub.status.idle": "2024-11-15T13:14:03.476685Z",
     "shell.execute_reply": "2024-11-15T13:14:03.475679Z"
    },
    "papermill": {
     "duration": 1120.662791,
     "end_time": "2024-11-15T13:14:03.478765",
     "exception": false,
     "start_time": "2024-11-15T12:55:22.815974",
     "status": "completed"
    },
    "tags": []
   },
   "outputs": [
    {
     "name": "stdout",
     "output_type": "stream",
     "text": [
      "No checkpoint found. Starting training from scratch.\n"
     ]
    },
    {
     "name": "stderr",
     "output_type": "stream",
     "text": [
      "Training Epoch 1/75: 100%|██████████| 362/362 [00:13<00:00, 26.13it/s]\n"
     ]
    },
    {
     "name": "stdout",
     "output_type": "stream",
     "text": [
      "Epoch 1 | Train Loss: 2.0335 | Train Acc: 0.1777 | Val Acc: 0.1840\n",
      "Checkpoint saved.\n"
     ]
    },
    {
     "name": "stderr",
     "output_type": "stream",
     "text": [
      "Training Epoch 2/75: 100%|██████████| 362/362 [00:13<00:00, 27.12it/s]\n"
     ]
    },
    {
     "name": "stdout",
     "output_type": "stream",
     "text": [
      "Epoch 2 | Train Loss: 2.0240 | Train Acc: 0.1793 | Val Acc: 0.1833\n"
     ]
    },
    {
     "name": "stderr",
     "output_type": "stream",
     "text": [
      "Training Epoch 3/75: 100%|██████████| 362/362 [00:13<00:00, 27.45it/s]\n"
     ]
    },
    {
     "name": "stdout",
     "output_type": "stream",
     "text": [
      "Epoch 3 | Train Loss: 2.0159 | Train Acc: 0.1837 | Val Acc: 0.1784\n"
     ]
    },
    {
     "name": "stderr",
     "output_type": "stream",
     "text": [
      "Training Epoch 4/75: 100%|██████████| 362/362 [00:13<00:00, 27.30it/s]\n"
     ]
    },
    {
     "name": "stdout",
     "output_type": "stream",
     "text": [
      "Epoch 4 | Train Loss: 2.0056 | Train Acc: 0.1879 | Val Acc: 0.1875\n",
      "Checkpoint saved.\n"
     ]
    },
    {
     "name": "stderr",
     "output_type": "stream",
     "text": [
      "Training Epoch 5/75: 100%|██████████| 362/362 [00:13<00:00, 27.12it/s]\n"
     ]
    },
    {
     "name": "stdout",
     "output_type": "stream",
     "text": [
      "Epoch 5 | Train Loss: 2.0007 | Train Acc: 0.1916 | Val Acc: 0.1868\n"
     ]
    },
    {
     "name": "stderr",
     "output_type": "stream",
     "text": [
      "Training Epoch 6/75: 100%|██████████| 362/362 [00:13<00:00, 27.14it/s]\n"
     ]
    },
    {
     "name": "stdout",
     "output_type": "stream",
     "text": [
      "Epoch 6 | Train Loss: 1.9982 | Train Acc: 0.1911 | Val Acc: 0.1624\n"
     ]
    },
    {
     "name": "stderr",
     "output_type": "stream",
     "text": [
      "Training Epoch 7/75: 100%|██████████| 362/362 [00:13<00:00, 27.77it/s]\n"
     ]
    },
    {
     "name": "stdout",
     "output_type": "stream",
     "text": [
      "Epoch 7 | Train Loss: 1.9899 | Train Acc: 0.1914 | Val Acc: 0.1924\n",
      "Checkpoint saved.\n"
     ]
    },
    {
     "name": "stderr",
     "output_type": "stream",
     "text": [
      "Training Epoch 8/75: 100%|██████████| 362/362 [00:13<00:00, 27.16it/s]\n"
     ]
    },
    {
     "name": "stdout",
     "output_type": "stream",
     "text": [
      "Epoch 8 | Train Loss: 1.9736 | Train Acc: 0.1984 | Val Acc: 0.1875\n"
     ]
    },
    {
     "name": "stderr",
     "output_type": "stream",
     "text": [
      "Training Epoch 9/75: 100%|██████████| 362/362 [00:13<00:00, 27.22it/s]\n"
     ]
    },
    {
     "name": "stdout",
     "output_type": "stream",
     "text": [
      "Epoch 9 | Train Loss: 1.9584 | Train Acc: 0.2082 | Val Acc: 0.1777\n"
     ]
    },
    {
     "name": "stderr",
     "output_type": "stream",
     "text": [
      "Training Epoch 10/75: 100%|██████████| 362/362 [00:13<00:00, 27.20it/s]\n"
     ]
    },
    {
     "name": "stdout",
     "output_type": "stream",
     "text": [
      "Epoch 10 | Train Loss: 1.9604 | Train Acc: 0.2031 | Val Acc: 0.1959\n",
      "Checkpoint saved.\n"
     ]
    },
    {
     "name": "stderr",
     "output_type": "stream",
     "text": [
      "Training Epoch 11/75: 100%|██████████| 362/362 [00:13<00:00, 27.18it/s]\n"
     ]
    },
    {
     "name": "stdout",
     "output_type": "stream",
     "text": [
      "Epoch 11 | Train Loss: 1.9542 | Train Acc: 0.2080 | Val Acc: 0.1610\n"
     ]
    },
    {
     "name": "stderr",
     "output_type": "stream",
     "text": [
      "Training Epoch 12/75: 100%|██████████| 362/362 [00:13<00:00, 27.17it/s]\n"
     ]
    },
    {
     "name": "stdout",
     "output_type": "stream",
     "text": [
      "Epoch 12 | Train Loss: 1.9391 | Train Acc: 0.2146 | Val Acc: 0.1659\n"
     ]
    },
    {
     "name": "stderr",
     "output_type": "stream",
     "text": [
      "Training Epoch 13/75: 100%|██████████| 362/362 [00:13<00:00, 27.27it/s]\n"
     ]
    },
    {
     "name": "stdout",
     "output_type": "stream",
     "text": [
      "Epoch 13 | Train Loss: 1.9365 | Train Acc: 0.2120 | Val Acc: 0.1854\n"
     ]
    },
    {
     "name": "stderr",
     "output_type": "stream",
     "text": [
      "Training Epoch 14/75: 100%|██████████| 362/362 [00:13<00:00, 27.23it/s]\n"
     ]
    },
    {
     "name": "stdout",
     "output_type": "stream",
     "text": [
      "Epoch 14 | Train Loss: 1.8990 | Train Acc: 0.2289 | Val Acc: 0.1889\n"
     ]
    },
    {
     "name": "stderr",
     "output_type": "stream",
     "text": [
      "Training Epoch 15/75: 100%|██████████| 362/362 [00:13<00:00, 27.21it/s]\n"
     ]
    },
    {
     "name": "stdout",
     "output_type": "stream",
     "text": [
      "Epoch 15 | Train Loss: 1.8750 | Train Acc: 0.2423 | Val Acc: 0.1707\n"
     ]
    },
    {
     "name": "stderr",
     "output_type": "stream",
     "text": [
      "Training Epoch 16/75: 100%|██████████| 362/362 [00:13<00:00, 26.92it/s]\n"
     ]
    },
    {
     "name": "stdout",
     "output_type": "stream",
     "text": [
      "Epoch 16 | Train Loss: 1.8678 | Train Acc: 0.2437 | Val Acc: 0.1784\n"
     ]
    },
    {
     "name": "stderr",
     "output_type": "stream",
     "text": [
      "Training Epoch 17/75: 100%|██████████| 362/362 [00:13<00:00, 27.08it/s]\n"
     ]
    },
    {
     "name": "stdout",
     "output_type": "stream",
     "text": [
      "Epoch 17 | Train Loss: 1.8334 | Train Acc: 0.2546 | Val Acc: 0.1952\n"
     ]
    },
    {
     "name": "stderr",
     "output_type": "stream",
     "text": [
      "Training Epoch 18/75: 100%|██████████| 362/362 [00:13<00:00, 27.06it/s]\n"
     ]
    },
    {
     "name": "stdout",
     "output_type": "stream",
     "text": [
      "Epoch 18 | Train Loss: 1.8470 | Train Acc: 0.2547 | Val Acc: 0.1980\n",
      "Checkpoint saved.\n"
     ]
    },
    {
     "name": "stderr",
     "output_type": "stream",
     "text": [
      "Training Epoch 19/75: 100%|██████████| 362/362 [00:13<00:00, 27.01it/s]\n"
     ]
    },
    {
     "name": "stdout",
     "output_type": "stream",
     "text": [
      "Epoch 19 | Train Loss: 1.7949 | Train Acc: 0.2743 | Val Acc: 0.1714\n"
     ]
    },
    {
     "name": "stderr",
     "output_type": "stream",
     "text": [
      "Training Epoch 20/75: 100%|██████████| 362/362 [00:13<00:00, 27.13it/s]\n"
     ]
    },
    {
     "name": "stdout",
     "output_type": "stream",
     "text": [
      "Epoch 20 | Train Loss: 1.7867 | Train Acc: 0.2827 | Val Acc: 0.1840\n"
     ]
    },
    {
     "name": "stderr",
     "output_type": "stream",
     "text": [
      "Training Epoch 21/75: 100%|██████████| 362/362 [00:13<00:00, 27.56it/s]\n"
     ]
    },
    {
     "name": "stdout",
     "output_type": "stream",
     "text": [
      "Epoch 21 | Train Loss: 1.9786 | Train Acc: 0.2208 | Val Acc: 0.1812\n"
     ]
    },
    {
     "name": "stderr",
     "output_type": "stream",
     "text": [
      "Training Epoch 22/75: 100%|██████████| 362/362 [00:13<00:00, 27.07it/s]\n"
     ]
    },
    {
     "name": "stdout",
     "output_type": "stream",
     "text": [
      "Epoch 22 | Train Loss: 2.0496 | Train Acc: 0.1766 | Val Acc: 0.1463\n"
     ]
    },
    {
     "name": "stderr",
     "output_type": "stream",
     "text": [
      "Training Epoch 23/75: 100%|██████████| 362/362 [00:13<00:00, 27.08it/s]\n"
     ]
    },
    {
     "name": "stdout",
     "output_type": "stream",
     "text": [
      "Epoch 23 | Train Loss: 2.0852 | Train Acc: 0.1674 | Val Acc: 0.1707\n"
     ]
    },
    {
     "name": "stderr",
     "output_type": "stream",
     "text": [
      "Training Epoch 24/75: 100%|██████████| 362/362 [00:13<00:00, 27.28it/s]\n"
     ]
    },
    {
     "name": "stdout",
     "output_type": "stream",
     "text": [
      "Epoch 24 | Train Loss: 2.0558 | Train Acc: 0.1682 | Val Acc: 0.1707\n"
     ]
    },
    {
     "name": "stderr",
     "output_type": "stream",
     "text": [
      "Training Epoch 25/75: 100%|██████████| 362/362 [00:13<00:00, 27.20it/s]\n"
     ]
    },
    {
     "name": "stdout",
     "output_type": "stream",
     "text": [
      "Epoch 25 | Train Loss: 2.0426 | Train Acc: 0.1702 | Val Acc: 0.1631\n"
     ]
    },
    {
     "name": "stderr",
     "output_type": "stream",
     "text": [
      "Training Epoch 26/75: 100%|██████████| 362/362 [00:13<00:00, 27.34it/s]\n"
     ]
    },
    {
     "name": "stdout",
     "output_type": "stream",
     "text": [
      "Epoch 26 | Train Loss: 2.0282 | Train Acc: 0.1783 | Val Acc: 0.1672\n"
     ]
    },
    {
     "name": "stderr",
     "output_type": "stream",
     "text": [
      "Training Epoch 27/75: 100%|██████████| 362/362 [00:13<00:00, 27.19it/s]\n"
     ]
    },
    {
     "name": "stdout",
     "output_type": "stream",
     "text": [
      "Epoch 27 | Train Loss: 2.0220 | Train Acc: 0.1816 | Val Acc: 0.1631\n"
     ]
    },
    {
     "name": "stderr",
     "output_type": "stream",
     "text": [
      "Training Epoch 28/75: 100%|██████████| 362/362 [00:13<00:00, 27.18it/s]\n"
     ]
    },
    {
     "name": "stdout",
     "output_type": "stream",
     "text": [
      "Epoch 28 | Train Loss: 2.0135 | Train Acc: 0.1736 | Val Acc: 0.1770\n"
     ]
    },
    {
     "name": "stderr",
     "output_type": "stream",
     "text": [
      "Training Epoch 29/75: 100%|██████████| 362/362 [00:13<00:00, 27.23it/s]\n"
     ]
    },
    {
     "name": "stdout",
     "output_type": "stream",
     "text": [
      "Epoch 29 | Train Loss: 2.0011 | Train Acc: 0.1858 | Val Acc: 0.1686\n"
     ]
    },
    {
     "name": "stderr",
     "output_type": "stream",
     "text": [
      "Training Epoch 30/75: 100%|██████████| 362/362 [00:13<00:00, 27.15it/s]\n"
     ]
    },
    {
     "name": "stdout",
     "output_type": "stream",
     "text": [
      "Epoch 30 | Train Loss: 2.0104 | Train Acc: 0.1844 | Val Acc: 0.1875\n"
     ]
    },
    {
     "name": "stderr",
     "output_type": "stream",
     "text": [
      "Training Epoch 31/75: 100%|██████████| 362/362 [00:13<00:00, 27.64it/s]\n"
     ]
    },
    {
     "name": "stdout",
     "output_type": "stream",
     "text": [
      "Epoch 31 | Train Loss: 2.0810 | Train Acc: 0.1766 | Val Acc: 0.1994\n",
      "Checkpoint saved.\n"
     ]
    },
    {
     "name": "stderr",
     "output_type": "stream",
     "text": [
      "Training Epoch 32/75: 100%|██████████| 362/362 [00:13<00:00, 27.07it/s]\n"
     ]
    },
    {
     "name": "stdout",
     "output_type": "stream",
     "text": [
      "Epoch 32 | Train Loss: 1.9745 | Train Acc: 0.1955 | Val Acc: 0.1693\n"
     ]
    },
    {
     "name": "stderr",
     "output_type": "stream",
     "text": [
      "Training Epoch 33/75: 100%|██████████| 362/362 [00:13<00:00, 27.23it/s]\n"
     ]
    },
    {
     "name": "stdout",
     "output_type": "stream",
     "text": [
      "Epoch 33 | Train Loss: 1.9549 | Train Acc: 0.2099 | Val Acc: 0.1938\n"
     ]
    },
    {
     "name": "stderr",
     "output_type": "stream",
     "text": [
      "Training Epoch 34/75: 100%|██████████| 362/362 [00:13<00:00, 27.13it/s]\n"
     ]
    },
    {
     "name": "stdout",
     "output_type": "stream",
     "text": [
      "Epoch 34 | Train Loss: 1.9735 | Train Acc: 0.2130 | Val Acc: 0.1959\n"
     ]
    },
    {
     "name": "stderr",
     "output_type": "stream",
     "text": [
      "Training Epoch 35/75: 100%|██████████| 362/362 [00:13<00:00, 27.35it/s]\n"
     ]
    },
    {
     "name": "stdout",
     "output_type": "stream",
     "text": [
      "Epoch 35 | Train Loss: 1.9551 | Train Acc: 0.2056 | Val Acc: 0.1756\n"
     ]
    },
    {
     "name": "stderr",
     "output_type": "stream",
     "text": [
      "Training Epoch 36/75: 100%|██████████| 362/362 [00:13<00:00, 27.42it/s]\n"
     ]
    },
    {
     "name": "stdout",
     "output_type": "stream",
     "text": [
      "Epoch 36 | Train Loss: 1.9201 | Train Acc: 0.2369 | Val Acc: 0.1659\n"
     ]
    },
    {
     "name": "stderr",
     "output_type": "stream",
     "text": [
      "Training Epoch 37/75: 100%|██████████| 362/362 [00:13<00:00, 27.18it/s]\n"
     ]
    },
    {
     "name": "stdout",
     "output_type": "stream",
     "text": [
      "Epoch 37 | Train Loss: 2.0534 | Train Acc: 0.1659 | Val Acc: 0.1791\n"
     ]
    },
    {
     "name": "stderr",
     "output_type": "stream",
     "text": [
      "Training Epoch 38/75: 100%|██████████| 362/362 [00:13<00:00, 27.09it/s]\n"
     ]
    },
    {
     "name": "stdout",
     "output_type": "stream",
     "text": [
      "Epoch 38 | Train Loss: 2.0165 | Train Acc: 0.1766 | Val Acc: 0.1505\n"
     ]
    },
    {
     "name": "stderr",
     "output_type": "stream",
     "text": [
      "Training Epoch 39/75: 100%|██████████| 362/362 [00:13<00:00, 27.17it/s]\n"
     ]
    },
    {
     "name": "stdout",
     "output_type": "stream",
     "text": [
      "Epoch 39 | Train Loss: 1.9787 | Train Acc: 0.2097 | Val Acc: 0.2274\n",
      "Checkpoint saved.\n"
     ]
    },
    {
     "name": "stderr",
     "output_type": "stream",
     "text": [
      "Training Epoch 40/75: 100%|██████████| 362/362 [00:13<00:00, 27.47it/s]\n"
     ]
    },
    {
     "name": "stdout",
     "output_type": "stream",
     "text": [
      "Epoch 40 | Train Loss: 2.0269 | Train Acc: 0.2041 | Val Acc: 0.2344\n",
      "Checkpoint saved.\n"
     ]
    },
    {
     "name": "stderr",
     "output_type": "stream",
     "text": [
      "Training Epoch 41/75: 100%|██████████| 362/362 [00:13<00:00, 27.15it/s]\n"
     ]
    },
    {
     "name": "stdout",
     "output_type": "stream",
     "text": [
      "Epoch 41 | Train Loss: 1.7968 | Train Acc: 0.3028 | Val Acc: 0.3282\n",
      "Checkpoint saved.\n"
     ]
    },
    {
     "name": "stderr",
     "output_type": "stream",
     "text": [
      "Training Epoch 42/75: 100%|██████████| 362/362 [00:13<00:00, 27.15it/s]\n"
     ]
    },
    {
     "name": "stdout",
     "output_type": "stream",
     "text": [
      "Epoch 42 | Train Loss: 1.8515 | Train Acc: 0.2846 | Val Acc: 0.2589\n"
     ]
    },
    {
     "name": "stderr",
     "output_type": "stream",
     "text": [
      "Training Epoch 43/75: 100%|██████████| 362/362 [00:13<00:00, 27.17it/s]\n"
     ]
    },
    {
     "name": "stdout",
     "output_type": "stream",
     "text": [
      "Epoch 43 | Train Loss: 1.8991 | Train Acc: 0.2332 | Val Acc: 0.1938\n"
     ]
    },
    {
     "name": "stderr",
     "output_type": "stream",
     "text": [
      "Training Epoch 44/75: 100%|██████████| 362/362 [00:13<00:00, 27.16it/s]\n"
     ]
    },
    {
     "name": "stdout",
     "output_type": "stream",
     "text": [
      "Epoch 44 | Train Loss: 1.8996 | Train Acc: 0.2241 | Val Acc: 0.1645\n"
     ]
    },
    {
     "name": "stderr",
     "output_type": "stream",
     "text": [
      "Training Epoch 45/75: 100%|██████████| 362/362 [00:13<00:00, 27.18it/s]\n"
     ]
    },
    {
     "name": "stdout",
     "output_type": "stream",
     "text": [
      "Epoch 45 | Train Loss: 1.8711 | Train Acc: 0.2413 | Val Acc: 0.1994\n"
     ]
    },
    {
     "name": "stderr",
     "output_type": "stream",
     "text": [
      "Training Epoch 46/75: 100%|██████████| 362/362 [00:13<00:00, 27.09it/s]\n"
     ]
    },
    {
     "name": "stdout",
     "output_type": "stream",
     "text": [
      "Epoch 46 | Train Loss: 1.8230 | Train Acc: 0.2555 | Val Acc: 0.1966\n"
     ]
    },
    {
     "name": "stderr",
     "output_type": "stream",
     "text": [
      "Training Epoch 47/75: 100%|██████████| 362/362 [00:13<00:00, 27.14it/s]\n"
     ]
    },
    {
     "name": "stdout",
     "output_type": "stream",
     "text": [
      "Epoch 47 | Train Loss: 1.7696 | Train Acc: 0.2845 | Val Acc: 0.2141\n"
     ]
    },
    {
     "name": "stderr",
     "output_type": "stream",
     "text": [
      "Training Epoch 48/75: 100%|██████████| 362/362 [00:13<00:00, 27.13it/s]\n"
     ]
    },
    {
     "name": "stdout",
     "output_type": "stream",
     "text": [
      "Epoch 48 | Train Loss: 1.7357 | Train Acc: 0.3112 | Val Acc: 0.2617\n"
     ]
    },
    {
     "name": "stderr",
     "output_type": "stream",
     "text": [
      "Training Epoch 49/75: 100%|██████████| 362/362 [00:13<00:00, 27.29it/s]\n"
     ]
    },
    {
     "name": "stdout",
     "output_type": "stream",
     "text": [
      "Epoch 49 | Train Loss: 1.4713 | Train Acc: 0.4426 | Val Acc: 0.4017\n",
      "Checkpoint saved.\n"
     ]
    },
    {
     "name": "stderr",
     "output_type": "stream",
     "text": [
      "Training Epoch 50/75: 100%|██████████| 362/362 [00:13<00:00, 27.16it/s]\n"
     ]
    },
    {
     "name": "stdout",
     "output_type": "stream",
     "text": [
      "Epoch 50 | Train Loss: 1.3293 | Train Acc: 0.5010 | Val Acc: 0.4234\n",
      "Checkpoint saved.\n"
     ]
    },
    {
     "name": "stderr",
     "output_type": "stream",
     "text": [
      "Training Epoch 51/75: 100%|██████████| 362/362 [00:13<00:00, 27.11it/s]\n"
     ]
    },
    {
     "name": "stdout",
     "output_type": "stream",
     "text": [
      "Epoch 51 | Train Loss: 1.2513 | Train Acc: 0.5308 | Val Acc: 0.4367\n",
      "Checkpoint saved.\n"
     ]
    },
    {
     "name": "stderr",
     "output_type": "stream",
     "text": [
      "Training Epoch 52/75: 100%|██████████| 362/362 [00:13<00:00, 27.15it/s]\n"
     ]
    },
    {
     "name": "stdout",
     "output_type": "stream",
     "text": [
      "Epoch 52 | Train Loss: 1.1917 | Train Acc: 0.5540 | Val Acc: 0.4514\n",
      "Checkpoint saved.\n"
     ]
    },
    {
     "name": "stderr",
     "output_type": "stream",
     "text": [
      "Training Epoch 53/75: 100%|██████████| 362/362 [00:13<00:00, 27.06it/s]\n"
     ]
    },
    {
     "name": "stdout",
     "output_type": "stream",
     "text": [
      "Epoch 53 | Train Loss: 1.1339 | Train Acc: 0.5737 | Val Acc: 0.4745\n",
      "Checkpoint saved.\n"
     ]
    },
    {
     "name": "stderr",
     "output_type": "stream",
     "text": [
      "Training Epoch 54/75: 100%|██████████| 362/362 [00:13<00:00, 27.08it/s]\n"
     ]
    },
    {
     "name": "stdout",
     "output_type": "stream",
     "text": [
      "Epoch 54 | Train Loss: 1.1263 | Train Acc: 0.5769 | Val Acc: 0.4353\n"
     ]
    },
    {
     "name": "stderr",
     "output_type": "stream",
     "text": [
      "Training Epoch 55/75: 100%|██████████| 362/362 [00:13<00:00, 27.20it/s]\n"
     ]
    },
    {
     "name": "stdout",
     "output_type": "stream",
     "text": [
      "Epoch 55 | Train Loss: 1.0720 | Train Acc: 0.6008 | Val Acc: 0.4864\n",
      "Checkpoint saved.\n"
     ]
    },
    {
     "name": "stderr",
     "output_type": "stream",
     "text": [
      "Training Epoch 56/75: 100%|██████████| 362/362 [00:13<00:00, 27.09it/s]\n"
     ]
    },
    {
     "name": "stdout",
     "output_type": "stream",
     "text": [
      "Epoch 56 | Train Loss: 1.0040 | Train Acc: 0.6251 | Val Acc: 0.4773\n"
     ]
    },
    {
     "name": "stderr",
     "output_type": "stream",
     "text": [
      "Training Epoch 57/75: 100%|██████████| 362/362 [00:13<00:00, 27.17it/s]\n"
     ]
    },
    {
     "name": "stdout",
     "output_type": "stream",
     "text": [
      "Epoch 57 | Train Loss: 0.9304 | Train Acc: 0.6491 | Val Acc: 0.4850\n"
     ]
    },
    {
     "name": "stderr",
     "output_type": "stream",
     "text": [
      "Training Epoch 58/75: 100%|██████████| 362/362 [00:13<00:00, 27.13it/s]\n"
     ]
    },
    {
     "name": "stdout",
     "output_type": "stream",
     "text": [
      "Epoch 58 | Train Loss: 0.9366 | Train Acc: 0.6494 | Val Acc: 0.4892\n",
      "Checkpoint saved.\n"
     ]
    },
    {
     "name": "stderr",
     "output_type": "stream",
     "text": [
      "Training Epoch 59/75: 100%|██████████| 362/362 [00:13<00:00, 27.09it/s]\n"
     ]
    },
    {
     "name": "stdout",
     "output_type": "stream",
     "text": [
      "Epoch 59 | Train Loss: 0.8770 | Train Acc: 0.6727 | Val Acc: 0.4857\n"
     ]
    },
    {
     "name": "stderr",
     "output_type": "stream",
     "text": [
      "Training Epoch 60/75: 100%|██████████| 362/362 [00:13<00:00, 27.11it/s]\n"
     ]
    },
    {
     "name": "stdout",
     "output_type": "stream",
     "text": [
      "Epoch 60 | Train Loss: 0.8027 | Train Acc: 0.6992 | Val Acc: 0.4822\n"
     ]
    },
    {
     "name": "stderr",
     "output_type": "stream",
     "text": [
      "Training Epoch 61/75: 100%|██████████| 362/362 [00:13<00:00, 27.18it/s]\n"
     ]
    },
    {
     "name": "stdout",
     "output_type": "stream",
     "text": [
      "Epoch 61 | Train Loss: 0.7476 | Train Acc: 0.7203 | Val Acc: 0.4689\n"
     ]
    },
    {
     "name": "stderr",
     "output_type": "stream",
     "text": [
      "Training Epoch 62/75: 100%|██████████| 362/362 [00:13<00:00, 27.10it/s]\n"
     ]
    },
    {
     "name": "stdout",
     "output_type": "stream",
     "text": [
      "Epoch 62 | Train Loss: 0.7018 | Train Acc: 0.7386 | Val Acc: 0.4780\n"
     ]
    },
    {
     "name": "stderr",
     "output_type": "stream",
     "text": [
      "Training Epoch 63/75: 100%|██████████| 362/362 [00:13<00:00, 27.28it/s]\n"
     ]
    },
    {
     "name": "stdout",
     "output_type": "stream",
     "text": [
      "Epoch 63 | Train Loss: 0.6661 | Train Acc: 0.7519 | Val Acc: 0.4843\n"
     ]
    },
    {
     "name": "stderr",
     "output_type": "stream",
     "text": [
      "Training Epoch 64/75: 100%|██████████| 362/362 [00:13<00:00, 27.24it/s]\n"
     ]
    },
    {
     "name": "stdout",
     "output_type": "stream",
     "text": [
      "Epoch 64 | Train Loss: 0.6252 | Train Acc: 0.7657 | Val Acc: 0.4773\n"
     ]
    },
    {
     "name": "stderr",
     "output_type": "stream",
     "text": [
      "Training Epoch 65/75: 100%|██████████| 362/362 [00:13<00:00, 27.18it/s]\n"
     ]
    },
    {
     "name": "stdout",
     "output_type": "stream",
     "text": [
      "Epoch 65 | Train Loss: 0.5819 | Train Acc: 0.7811 | Val Acc: 0.4822\n"
     ]
    },
    {
     "name": "stderr",
     "output_type": "stream",
     "text": [
      "Training Epoch 66/75: 100%|██████████| 362/362 [00:13<00:00, 27.06it/s]\n"
     ]
    },
    {
     "name": "stdout",
     "output_type": "stream",
     "text": [
      "Epoch 66 | Train Loss: 0.5431 | Train Acc: 0.7976 | Val Acc: 0.4717\n"
     ]
    },
    {
     "name": "stderr",
     "output_type": "stream",
     "text": [
      "Training Epoch 67/75: 100%|██████████| 362/362 [00:13<00:00, 27.20it/s]\n"
     ]
    },
    {
     "name": "stdout",
     "output_type": "stream",
     "text": [
      "Epoch 67 | Train Loss: 0.5169 | Train Acc: 0.8068 | Val Acc: 0.4584\n"
     ]
    },
    {
     "name": "stderr",
     "output_type": "stream",
     "text": [
      "Training Epoch 68/75: 100%|██████████| 362/362 [00:13<00:00, 27.26it/s]\n"
     ]
    },
    {
     "name": "stdout",
     "output_type": "stream",
     "text": [
      "Epoch 68 | Train Loss: 0.4887 | Train Acc: 0.8221 | Val Acc: 0.4871\n"
     ]
    },
    {
     "name": "stderr",
     "output_type": "stream",
     "text": [
      "Training Epoch 69/75: 100%|██████████| 362/362 [00:13<00:00, 27.23it/s]\n"
     ]
    },
    {
     "name": "stdout",
     "output_type": "stream",
     "text": [
      "Epoch 69 | Train Loss: 0.4463 | Train Acc: 0.8375 | Val Acc: 0.4605\n"
     ]
    },
    {
     "name": "stderr",
     "output_type": "stream",
     "text": [
      "Training Epoch 70/75: 100%|██████████| 362/362 [00:13<00:00, 27.13it/s]\n"
     ]
    },
    {
     "name": "stdout",
     "output_type": "stream",
     "text": [
      "Epoch 70 | Train Loss: 0.4194 | Train Acc: 0.8489 | Val Acc: 0.4682\n"
     ]
    },
    {
     "name": "stderr",
     "output_type": "stream",
     "text": [
      "Training Epoch 71/75: 100%|██████████| 362/362 [00:13<00:00, 27.24it/s]\n"
     ]
    },
    {
     "name": "stdout",
     "output_type": "stream",
     "text": [
      "Epoch 71 | Train Loss: 0.3825 | Train Acc: 0.8646 | Val Acc: 0.4703\n"
     ]
    },
    {
     "name": "stderr",
     "output_type": "stream",
     "text": [
      "Training Epoch 72/75: 100%|██████████| 362/362 [00:13<00:00, 27.42it/s]\n"
     ]
    },
    {
     "name": "stdout",
     "output_type": "stream",
     "text": [
      "Epoch 72 | Train Loss: 0.3763 | Train Acc: 0.8698 | Val Acc: 0.4717\n"
     ]
    },
    {
     "name": "stderr",
     "output_type": "stream",
     "text": [
      "Training Epoch 73/75: 100%|██████████| 362/362 [00:13<00:00, 27.23it/s]\n"
     ]
    },
    {
     "name": "stdout",
     "output_type": "stream",
     "text": [
      "Epoch 73 | Train Loss: 0.3437 | Train Acc: 0.8826 | Val Acc: 0.4759\n"
     ]
    },
    {
     "name": "stderr",
     "output_type": "stream",
     "text": [
      "Training Epoch 74/75: 100%|██████████| 362/362 [00:13<00:00, 27.09it/s]\n"
     ]
    },
    {
     "name": "stdout",
     "output_type": "stream",
     "text": [
      "Epoch 74 | Train Loss: 0.3057 | Train Acc: 0.8954 | Val Acc: 0.4885\n"
     ]
    },
    {
     "name": "stderr",
     "output_type": "stream",
     "text": [
      "Training Epoch 75/75: 100%|██████████| 362/362 [00:13<00:00, 27.19it/s]\n"
     ]
    },
    {
     "name": "stdout",
     "output_type": "stream",
     "text": [
      "Epoch 75 | Train Loss: 0.2778 | Train Acc: 0.9075 | Val Acc: 0.4731\n"
     ]
    },
    {
     "data": {
      "image/png": "[encoded data removed]",
      "text/plain": [
       "<Figure size 640x480 with 1 Axes>"
      ]
     },
     "metadata": {},
     "output_type": "display_data"
    },
    {
     "name": "stderr",
     "output_type": "stream",
     "text": [
      "/tmp/ipykernel_24/3263386255.py:156: FutureWarning: You are using `torch.load` with `weights_only=False` (the current default value), which uses the default pickle module implicitly. It is possible to construct malicious pickle data which will execute arbitrary code during unpickling (See https://github.com/pytorch/pytorch/blob/main/SECURITY.md#untrusted-models for more details). In a future release, the default value for `weights_only` will be flipped to `True`. This limits the functions that could be executed during unpickling. Arbitrary objects will no longer be allowed to be loaded via this mode unless they are explicitly allowlisted by the user via `torch.serialization.add_safe_globals`. We recommend you start setting `weights_only=True` for any use case where you don't have full control of the loaded file. Please open an issue on GitHub for any issues related to this experimental feature.\n",
      "  model.load_state_dict(torch.load(Config.checkpoint_path)['model_state_dict'])\n"
     ]
    },
    {
     "name": "stdout",
     "output_type": "stream",
     "text": [
      "Test Accuracy: 0.4715 | Test F1 Score: 0.4457\n"
     ]
    }
   ],
   "source": [
    "# Load data\n",
    "def load_data(filename):\n",
    "    df = pd.read_csv(filename)\n",
    "    data = [(row['Summary'], row['Genres']) for _, row in df.iterrows()]\n",
    "    return data\n",
    "\n",
    "# TextDataset using FastText word indices\n",
    "class TextDataset(Dataset):\n",
    "    def __init__(self, data, word_index, label_map, max_length=512):\n",
    "        self.data = data\n",
    "        self.word_index = word_index\n",
    "        self.label_map = label_map\n",
    "        self.max_length = max_length\n",
    "\n",
    "    def __len__(self):\n",
    "        return len(self.data)\n",
    "\n",
    "    def __getitem__(self, idx):\n",
    "        text, label = self.data[idx]\n",
    "        # Convert text to word indices\n",
    "        token_ids = [self.word_index.get(word, 0) for word in text.split()]\n",
    "        token_ids = token_ids[:self.max_length]  # Truncate if necessary\n",
    "        token_ids += [0] * (self.max_length - len(token_ids))  # Pad to max length\n",
    "        return torch.tensor(token_ids, dtype=torch.long), torch.tensor(self.label_map[label], dtype=torch.long)\n",
    "\n",
    "    def collate_fn(self, batch):\n",
    "        token_ids = torch.stack([item[0] for item in batch])\n",
    "        labels = torch.tensor([item[1] for item in batch], dtype=torch.long)\n",
    "        return token_ids, labels\n",
    "\n",
    "# Define the LSTM model with FastText embeddings\n",
    "class LSTMSentClassifier(nn.Module):\n",
    "    def __init__(self, vocab_size, embedding_matrix, config):\n",
    "        super(LSTMSentClassifier, self).__init__()\n",
    "        self.embedding = nn.Embedding.from_pretrained(torch.tensor(embedding_matrix, dtype=torch.float32), freeze=True)\n",
    "        self.lstm = nn.LSTM(embedding_matrix.shape[1], config.hidden_size, batch_first=True)\n",
    "        self.dropout = nn.Dropout(config.hidden_dropout_prob)\n",
    "        self.fc = nn.Linear(config.hidden_size, config.num_labels)\n",
    "        self.softmax = nn.LogSoftmax(dim=-1)\n",
    "\n",
    "    def forward(self, x):\n",
    "        embedded = self.embedding(x)\n",
    "        _, (hidden, _) = self.lstm(embedded)\n",
    "        hidden = self.dropout(hidden[-1])\n",
    "        return self.softmax(self.fc(hidden))\n",
    "\n",
    "# Evaluation function to calculate accuracy and F1 score\n",
    "def evaluate_model(model, dataloader, device):\n",
    "    model.eval()\n",
    "    all_preds, all_labels = [], []\n",
    "    with torch.no_grad():\n",
    "        for token_ids, labels in dataloader:\n",
    "            token_ids, labels = token_ids.to(device), labels.to(device)\n",
    "            output = model(token_ids)\n",
    "            preds = torch.argmax(output, dim=1)\n",
    "            all_preds.extend(preds.cpu().numpy())\n",
    "            all_labels.extend(labels.cpu().numpy())\n",
    "    \n",
    "    accuracy = accuracy_score(all_labels, all_preds)\n",
    "    f1 = f1_score(all_labels, all_preds, average=\"macro\")\n",
    "    return accuracy, f1\n",
    "\n",
    "# Training function with checkpoint saving\n",
    "def train_model(model, train_loader, val_loader, config, device):\n",
    "    \"\"\"\n",
    "    Trains the given model using the provided training and validation data loaders.\n",
    "\n",
    "    Args:\n",
    "        model (torch.nn.Module): The model to be trained.\n",
    "        train_loader (torch.utils.data.DataLoader): DataLoader for the training dataset.\n",
    "        val_loader (torch.utils.data.DataLoader): DataLoader for the validation dataset.\n",
    "        config (object): Configuration object containing training parameters such as learning rate, number of epochs, and checkpoint path.\n",
    "        device (torch.device): The device (CPU or GPU) on which the model will be trained.\n",
    "\n",
    "    Returns:\n",
    "        None\n",
    "    \"\"\"\n",
    "    optimizer = Adam(model.parameters(), lr=config.lr)\n",
    "    start_epoch = 0\n",
    "    best_accuracy = 0\n",
    "\n",
    "    # Load checkpoint if it exists\n",
    "    if os.path.exists(config.checkpoint_path):\n",
    "        checkpoint = torch.load(config.checkpoint_path)\n",
    "        model.load_state_dict(checkpoint['model_state_dict'])\n",
    "        optimizer.load_state_dict(checkpoint['optimizer_state_dict'])\n",
    "        start_epoch = checkpoint['epoch'] + 1\n",
    "        best_accuracy = checkpoint.get('best_accuracy', 0)\n",
    "        print(f\"Checkpoint loaded. Resuming training from epoch {start_epoch} with best accuracy {best_accuracy:.4f}\")\n",
    "    else:\n",
    "        print(\"No checkpoint found. Starting training from scratch.\")\n",
    "\n",
    "    train_losses, train_accuracies, val_accuracies = [], [], []\n",
    "\n",
    "    for epoch in range(start_epoch, config.num_epochs):\n",
    "        model.train()\n",
    "        total_loss = 0\n",
    "        correct_preds = 0\n",
    "        total_samples = 0\n",
    "\n",
    "        for token_ids, labels in tqdm(train_loader, desc=f\"Training Epoch {epoch+1}/{config.num_epochs}\"):\n",
    "            token_ids, labels = token_ids.to(device), labels.to(device)\n",
    "            optimizer.zero_grad()\n",
    "            output = model(token_ids)\n",
    "            loss = F.nll_loss(output, labels)\n",
    "            loss.backward()\n",
    "            optimizer.step()\n",
    "\n",
    "            total_loss += loss.item()\n",
    "            preds = torch.argmax(output, dim=1)\n",
    "            correct_preds += (preds == labels).sum().item()\n",
    "            total_samples += labels.size(0)\n",
    "\n",
    "        avg_train_loss = total_loss / len(train_loader)\n",
    "        train_accuracy = correct_preds / total_samples\n",
    "        train_losses.append(avg_train_loss)\n",
    "        train_accuracies.append(train_accuracy)\n",
    "\n",
    "        val_accuracy, val_f1 = evaluate_model(model, val_loader, device)\n",
    "        val_accuracies.append(val_accuracy)\n",
    "        print(f\"Epoch {epoch+1} | Train Loss: {avg_train_loss:.4f} | Train Acc: {train_accuracy:.4f} | Val Acc: {val_accuracy:.4f}\")\n",
    "\n",
    "        if val_accuracy > best_accuracy:\n",
    "            best_accuracy = val_accuracy\n",
    "            torch.save({\n",
    "                'epoch': epoch,\n",
    "                'model_state_dict': model.state_dict(),\n",
    "                'optimizer_state_dict': optimizer.state_dict(),\n",
    "                'best_accuracy': best_accuracy,\n",
    "            }, config.checkpoint_path)\n",
    "            print(\"Checkpoint saved.\")\n",
    "\n",
    "    plt.plot(train_losses, label=\"Train Loss\")\n",
    "    plt.plot(val_accuracies, label=\"Val Accuracy\")\n",
    "    plt.legend()\n",
    "    plt.show()\n",
    "\n",
    "# Data processing\n",
    "label_map = {\n",
    "    \"Children's literature\": 0,\n",
    "    \"Crime Fiction\": 1,\n",
    "    \"Fantasy\": 2,\n",
    "    \"Mystery\": 3,\n",
    "    \"Non-fiction\": 4,\n",
    "    \"Science Fiction\": 5,\n",
    "    \"Suspense\": 6,\n",
    "    \"Young adult literature\": 7\n",
    "}\n",
    "\n",
    "# Load training, validation, and test data\n",
    "train_data = load_data('/kaggle/input/book-summaries/book_summaries_train.csv')\n",
    "val_data = load_data('/kaggle/input/book-summaries/book_summaries_valid.csv')\n",
    "test_data = load_data('/kaggle/input/book-summaries/book_summaries_test.csv')\n",
    "\n",
    "# Create datasets\n",
    "train_dataset = TextDataset(train_data, word_index, label_map)\n",
    "val_dataset = TextDataset(val_data, word_index, label_map)\n",
    "test_dataset = TextDataset(test_data, word_index, label_map)\n",
    "\n",
    "# Create data loaders\n",
    "train_loader = DataLoader(train_dataset, batch_size=Config.batch_size, shuffle=True, collate_fn=train_dataset.collate_fn)\n",
    "val_loader = DataLoader(val_dataset, batch_size=Config.batch_size, shuffle=False, collate_fn=val_dataset.collate_fn)\n",
    "test_loader = DataLoader(test_dataset, batch_size=Config.batch_size, shuffle=False, collate_fn=test_dataset.collate_fn)\n",
    "\n",
    "# Model setup and training\n",
    "device = torch.device(\"cuda\" if torch.cuda.is_available() else \"cpu\")\n",
    "model = LSTMSentClassifier(vocab_size, embedding_matrix, Config).to(device)\n",
    "\n",
    "# Train the model\n",
    "train_model(model, train_loader, val_loader, Config, device)\n",
    "\n",
    "# Load the best model and evaluate on the test set\n",
    "model.load_state_dict(torch.load(Config.checkpoint_path)['model_state_dict'])\n",
    "test_accuracy, test_f1 = evaluate_model(model, test_loader, device)\n",
    "print(f\"Test Accuracy: {test_accuracy:.4f} | Test F1 Score: {test_f1:.4f}\")"
   ]
  }
 ],
 "metadata": {
  "kaggle": {
   "accelerator": "gpu",
   "dataSources": [
    {
     "datasetId": 715814,
     "sourceId": 1246668,
     "sourceType": "datasetVersion"
    },
    {
     "datasetId": 6070091,
     "sourceId": 9884968,
     "sourceType": "datasetVersion"
    }
   ],
   "dockerImageVersionId": 30787,
   "isGpuEnabled": true,
   "isInternetEnabled": true,
   "language": "python",
   "sourceType": "notebook"
  },
  "kernelspec": {
   "display_name": "Python 3",
   "language": "python",
   "name": "python3"
  },
  "language_info": {
   "codemirror_mode": {
    "name": "ipython",
    "version": 3
   },
   "file_extension": ".py",
   "mimetype": "text/x-python",
   "name": "python",
   "nbconvert_exporter": "python",
   "pygments_lexer": "ipython3",
   "version": "3.10.14"
  },
  "papermill": {
   "default_parameters": {},
   "duration": 1588.712124,
   "end_time": "2024-11-15T13:14:31.917145",
   "environment_variables": {},
   "exception": null,
   "input_path": "__notebook__.ipynb",
   "output_path": "__notebook__.ipynb",
   "parameters": {},
   "start_time": "2024-11-15T12:48:03.205021",
   "version": "2.6.0"
  }
 },
 "nbformat": 4,
 "nbformat_minor": 5
}
